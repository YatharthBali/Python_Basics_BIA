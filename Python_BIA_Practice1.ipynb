{
  "nbformat": 4,
  "nbformat_minor": 0,
  "metadata": {
    "colab": {
      "provenance": []
    },
    "kernelspec": {
      "name": "python3",
      "display_name": "Python 3"
    },
    "language_info": {
      "name": "python"
    }
  },
  "cells": [
    {
      "cell_type": "code",
      "source": [
        "print('Hello World')"
      ],
      "metadata": {
        "colab": {
          "base_uri": "https://localhost:8080/"
        },
        "id": "WdMMTU98aQ04",
        "outputId": "f826c324-96f9-4397-e2a9-97b99c53d7e9"
      },
      "execution_count": 2,
      "outputs": [
        {
          "output_type": "stream",
          "name": "stdout",
          "text": [
            "Hello World\n"
          ]
        }
      ]
    },
    {
      "cell_type": "code",
      "source": [
        "print('Conditional Statement')\n",
        "a=5\n",
        "if a>5:\n",
        "  print('It is greater')\n",
        "else:\n",
        "  print('It is not greater')"
      ],
      "metadata": {
        "colab": {
          "base_uri": "https://localhost:8080/"
        },
        "id": "qqa4iZaGaua1",
        "outputId": "0e82b24c-0757-4bf8-b639-513c7790684b"
      },
      "execution_count": 3,
      "outputs": [
        {
          "output_type": "stream",
          "name": "stdout",
          "text": [
            "Conditional Statement\n",
            "It is not greater\n"
          ]
        }
      ]
    },
    {
      "cell_type": "code",
      "source": [
        "print('For Loop')\n",
        "for i in range(5):\n",
        "  print(i)\n",
        "for i in range(2,12,3):\n",
        "  print(i)"
      ],
      "metadata": {
        "colab": {
          "base_uri": "https://localhost:8080/"
        },
        "id": "OpT-UGVQbJUN",
        "outputId": "4c8af546-1426-48c3-c280-30b82841ed01"
      },
      "execution_count": 4,
      "outputs": [
        {
          "output_type": "stream",
          "name": "stdout",
          "text": [
            "For Loop\n",
            "0\n",
            "1\n",
            "2\n",
            "3\n",
            "4\n",
            "2\n",
            "5\n",
            "8\n",
            "11\n"
          ]
        }
      ]
    },
    {
      "cell_type": "code",
      "source": [
        "print('Keywords')\n",
        "e=4\n",
        "while e>3:\n",
        "  print('Nice')\n",
        "  e=e-1\n",
        "\n",
        "def hi(tax):\n",
        "  return tax*5\n",
        "hi(4)\n",
        "\n",
        "a=True\n",
        "b=a+1\n",
        "print(b)\n",
        "c=False\n",
        "d=1-c\n",
        "print(d)\n",
        "\n",
        "aa=None\n",
        "print(aa)\n",
        "bb=type(aa)\n",
        "print(bb)\n",
        "\n",
        "f=32\n",
        "if f>20 and f==32:\n",
        "  print('Section1')\n",
        "elif f>20 or f==int :\n",
        "  print('Section2')\n",
        "else:\n",
        "  print('Else Part')\n",
        "\n",
        "import math as m\n",
        "ad=m.sqrt(64)\n",
        "print(ad)\n",
        "\n",
        "a,b,c='john',56,'france'\n",
        "print(a,end=' ')\n",
        "print(b,end=' ')\n",
        "print(c)\n"
      ],
      "metadata": {
        "colab": {
          "base_uri": "https://localhost:8080/"
        },
        "id": "MbER5zAsb2p0",
        "outputId": "61436c69-6db3-4f9c-a302-9aeeb4c5f622"
      },
      "execution_count": 33,
      "outputs": [
        {
          "output_type": "stream",
          "name": "stdout",
          "text": [
            "Keywords\n",
            "Nice\n",
            "2\n",
            "1\n",
            "None\n",
            "<class 'NoneType'>\n",
            "Section1\n",
            "8.0\n",
            "john 56 france\n"
          ]
        }
      ]
    },
    {
      "cell_type": "code",
      "source": [
        "print('DATATYPES IN PYTHON')\n",
        "a=12\n",
        "print(float(a))\n",
        "b='ikjujkn'\n",
        "print(type(b))\n",
        "c=[1,2,'qwerty']\n",
        "print(type(c))\n",
        "d=(34,6,23)\n",
        "print(type(d))\n",
        "e={2,4,5,67,7,}\n",
        "print(type(e))\n",
        "f={1:'hi'}\n",
        "print(type(f))\n",
        "g=(1+8j)\n",
        "print(type(g))"
      ],
      "metadata": {
        "colab": {
          "base_uri": "https://localhost:8080/"
        },
        "id": "OwEMRJjZcoe_",
        "outputId": "a70976e9-cc01-45ee-fc6b-cf10156ee2e0"
      },
      "execution_count": 49,
      "outputs": [
        {
          "output_type": "stream",
          "name": "stdout",
          "text": [
            "DATATYPES IN PYTHON\n",
            "12.0\n",
            "<class 'str'>\n",
            "<class 'list'>\n",
            "<class 'tuple'>\n",
            "<class 'set'>\n",
            "<class 'dict'>\n",
            "<class 'complex'>\n"
          ]
        }
      ]
    },
    {
      "cell_type": "code",
      "source": [
        "a=bool(100)\n",
        "print(a)\n"
      ],
      "metadata": {
        "colab": {
          "base_uri": "https://localhost:8080/"
        },
        "id": "jvm5-npUhP-g",
        "outputId": "96534053-5c2c-40c6-8179-8e9858be2975"
      },
      "execution_count": 55,
      "outputs": [
        {
          "output_type": "stream",
          "name": "stdout",
          "text": [
            "True\n"
          ]
        }
      ]
    },
    {
      "cell_type": "code",
      "source": [
        "print('Operation In Python')\n",
        "a='hsjmnsuj'\n",
        "b=\"fejkvfe \"\n",
        "c=\"\"\"\n",
        "firkm\n",
        "rfrf\n",
        "frf\"\"\"\n",
        "d=print(a+b+c)\n",
        "e=len(a+b+c)\n",
        "print(e)"
      ],
      "metadata": {
        "colab": {
          "base_uri": "https://localhost:8080/"
        },
        "id": "HFfY35BwjUKY",
        "outputId": "6cbbffb0-9421-429d-fa96-68bad7974c9f"
      },
      "execution_count": 59,
      "outputs": [
        {
          "output_type": "stream",
          "name": "stdout",
          "text": [
            "Operation In Python\n",
            "hsjmnsujfejkvfe \n",
            "firkm\n",
            "rfrf\n",
            "frf\n",
            "31\n"
          ]
        }
      ]
    },
    {
      "cell_type": "code",
      "source": [
        "print('SLicing In    Python')\n",
        "name='Yatharth is Learning Python'\n",
        "print(name[5])\n",
        "print(name[0:7])\n",
        "print(name[-1])\n",
        "print(name[-7:-1])\n",
        "print(name[::-1])\n",
        "print(name[:-1])\n",
        "print(name[-1:-14:-2])\n",
        "print(name.upper())\n",
        "print(name.lower())\n",
        "print(name.capitalize())\n",
        "print(name.title())\n",
        "print(name.strip())\n",
        "print(name.find('is'))\n",
        "print(name.replace('Yatharth','Karan'))\n",
        "print(name.count('is'))\n",
        "print(name.startswith('yatharth'))\n",
        "print(name.endswith('on'))\n",
        "print(name.isalnum())\n",
        "print(name.isalpha())\n",
        "print(name.isdigit())\n",
        "print(name.split())\n",
        "print(name.join(a))\n",
        "print(\"name{}\".format('ok'))"
      ],
      "metadata": {
        "colab": {
          "base_uri": "https://localhost:8080/"
        },
        "id": "b1zIGKy0kqTj",
        "outputId": "4f1f0fc9-61c1-4462-97bc-c8238861d6d9"
      },
      "execution_count": 98,
      "outputs": [
        {
          "output_type": "stream",
          "name": "stdout",
          "text": [
            "SLicing In    Python\n",
            "r\n",
            "Yathart\n",
            "n\n",
            " Pytho\n",
            "nohtyP gninraeL si htrahtaY\n",
            "Yatharth is Learning Pytho\n",
            "nhy nna\n",
            "YATHARTH IS LEARNING PYTHON\n",
            "yatharth is learning python\n",
            "Yatharth is learning python\n",
            "Yatharth Is Learning Python\n",
            "Yatharth is Learning Python\n",
            "9\n",
            "Karan is Learning Python\n",
            "1\n",
            "False\n",
            "True\n",
            "False\n",
            "False\n",
            "False\n",
            "['Yatharth', 'is', 'Learning', 'Python']\n",
            "hYatharth is Learning PythonsYatharth is Learning PythonjYatharth is Learning PythonmYatharth is Learning PythonnYatharth is Learning PythonsYatharth is Learning PythonuYatharth is Learning Pythonj\n",
            "nameok\n"
          ]
        }
      ]
    },
    {
      "cell_type": "code",
      "source": [
        "print('OPERATORS IN PYTHON')\n",
        "a='hike'\n",
        "b='ih'\n",
        "c=a in b\n",
        "print(c)\n",
        "d=a not in b\n",
        "print(d)"
      ],
      "metadata": {
        "colab": {
          "base_uri": "https://localhost:8080/"
        },
        "id": "N3pjMb8WlrRI",
        "outputId": "04947264-7b72-431b-f0f1-7e819b5ed6d4"
      },
      "execution_count": 101,
      "outputs": [
        {
          "output_type": "stream",
          "name": "stdout",
          "text": [
            "OPERATORS IN PYTHON\n",
            "False\n",
            "True\n"
          ]
        }
      ]
    },
    {
      "cell_type": "code",
      "source": [
        "print('More Operators in Python')\n",
        "a=12\n",
        "print(a//2)\n",
        "print(a/2)\n",
        "print(a%5)\n",
        "print(a*5)\n",
        "print(a+45)\n",
        "print(a-54)"
      ],
      "metadata": {
        "colab": {
          "base_uri": "https://localhost:8080/"
        },
        "id": "_p-pIBk6qaBE",
        "outputId": "0c3de82c-d83e-4c60-8f35-5a93deacfffb"
      },
      "execution_count": 108,
      "outputs": [
        {
          "output_type": "stream",
          "name": "stdout",
          "text": [
            "More Operators in Python\n",
            "6\n",
            "6.0\n",
            "2\n",
            "60\n",
            "57\n",
            "-42\n"
          ]
        }
      ]
    },
    {
      "cell_type": "code",
      "source": [
        "print('New Line')\n",
        "ss='jh kn \\n sijm wk \\n wnxkm'\n",
        "print(ss)"
      ],
      "metadata": {
        "colab": {
          "base_uri": "https://localhost:8080/"
        },
        "id": "7Rt6-rV7qywa",
        "outputId": "2303ad84-ccae-4a65-ef63-d7fd8492433b"
      },
      "execution_count": 110,
      "outputs": [
        {
          "output_type": "stream",
          "name": "stdout",
          "text": [
            "New Line\n",
            "jh kn \n",
            " sijm wk \n",
            " wnxkm\n"
          ]
        }
      ]
    },
    {
      "cell_type": "code",
      "source": [
        "print('Tab')\n",
        "rr='djvnk k \\t jdknkn  \\t'\n",
        "print(rr)\n",
        "gg='ilmec \\\\ckec'\n",
        "print(gg)"
      ],
      "metadata": {
        "colab": {
          "base_uri": "https://localhost:8080/"
        },
        "id": "tUPmvt3-rdTL",
        "outputId": "9f798d4b-ef9f-42e8-a500-9e9602c7d973"
      },
      "execution_count": 112,
      "outputs": [
        {
          "output_type": "stream",
          "name": "stdout",
          "text": [
            "Tab\n",
            "djvnk k \t jdknkn  \t\n",
            "ilmec \\ckec\n"
          ]
        }
      ]
    },
    {
      "cell_type": "code",
      "source": [
        "print('Jump Statement')\n",
        "for i in range(4):\n",
        "  if i>2:\n",
        "    pass\n",
        "  elif i<2:\n",
        "    i=i+1\n",
        "    print(i)\n",
        "  else:\n",
        "    break\n",
        "    print('No output')"
      ],
      "metadata": {
        "colab": {
          "base_uri": "https://localhost:8080/"
        },
        "id": "9NxHdjUhruys",
        "outputId": "672d0240-e2ae-439e-953a-8b396e08274c"
      },
      "execution_count": 116,
      "outputs": [
        {
          "output_type": "stream",
          "name": "stdout",
          "text": [
            "Jump Statement\n",
            "1\n",
            "2\n"
          ]
        }
      ]
    },
    {
      "cell_type": "code",
      "source": [
        "print('ASCII VALUE')\n",
        "a='a'\n",
        "#A='A'\n",
        "b=print(ord(a))\n",
        "print(b)\n",
        "print(ord('A'))\n",
        "print(ord('z'))"
      ],
      "metadata": {
        "colab": {
          "base_uri": "https://localhost:8080/"
        },
        "id": "R7F6XoLQsVgJ",
        "outputId": "1f855be3-0a0e-4e19-c4af-a92981d8b5f2"
      },
      "execution_count": 130,
      "outputs": [
        {
          "output_type": "stream",
          "name": "stdout",
          "text": [
            "ASCII VALUE\n",
            "97\n",
            "None\n",
            "65\n",
            "122\n"
          ]
        }
      ]
    },
    {
      "cell_type": "code",
      "source": [],
      "metadata": {
        "id": "QIF9qMT9ua6D"
      },
      "execution_count": null,
      "outputs": []
    }
  ]
}