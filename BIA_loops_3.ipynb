{
  "nbformat": 4,
  "nbformat_minor": 0,
  "metadata": {
    "colab": {
      "provenance": []
    },
    "kernelspec": {
      "name": "python3",
      "display_name": "Python 3"
    },
    "language_info": {
      "name": "python"
    }
  },
  "cells": [
    {
      "cell_type": "code",
      "source": [],
      "metadata": {
        "id": "DqliJfFxsDmL"
      },
      "execution_count": null,
      "outputs": []
    },
    {
      "cell_type": "code",
      "execution_count": 33,
      "metadata": {
        "id": "GPDH2Mp5m3wB",
        "colab": {
          "base_uri": "https://localhost:8080/"
        },
        "outputId": "4a7907fa-2a62-4f39-a620-9381461605b8"
      },
      "outputs": [
        {
          "output_type": "stream",
          "name": "stdout",
          "text": [
            "22 is my age\n"
          ]
        }
      ],
      "source": [
        "a=22\n",
        "print('{} is my age'.format(a))"
      ]
    },
    {
      "cell_type": "code",
      "source": [
        "import random as r\n",
        "begin=0\n",
        "a=int(input('Enter the amount digvijay wants?'))\n",
        "while begin<=a:\n",
        "  c=r.randint(1,15000)\n",
        "  print('Your  collection is',c)\n",
        "  begin=begin+c\n",
        "  print(begin)\n",
        "else:\n",
        "  print('Digvijay you need to start again')\n",
        ""
      ],
      "metadata": {
        "colab": {
          "base_uri": "https://localhost:8080/"
        },
        "id": "ZXsF_icFr6Pz",
        "outputId": "04a31d7b-0999-4dee-cc33-a19317a74e57"
      },
      "execution_count": 23,
      "outputs": [
        {
          "output_type": "stream",
          "name": "stdout",
          "text": [
            "Enter the amount digvijay wants?200000\n",
            "Your  collection is 1800\n",
            "1800\n",
            "Your  collection is 3098\n",
            "4898\n",
            "Your  collection is 1631\n",
            "6529\n",
            "Your  collection is 14717\n",
            "21246\n",
            "Your  collection is 10978\n",
            "32224\n",
            "Your  collection is 12877\n",
            "45101\n",
            "Your  collection is 2511\n",
            "47612\n",
            "Your  collection is 12787\n",
            "60399\n",
            "Your  collection is 5933\n",
            "66332\n",
            "Your  collection is 14252\n",
            "80584\n",
            "Your  collection is 1312\n",
            "81896\n",
            "Your  collection is 13268\n",
            "95164\n",
            "Your  collection is 11032\n",
            "106196\n",
            "Your  collection is 3325\n",
            "109521\n",
            "Your  collection is 4414\n",
            "113935\n",
            "Your  collection is 14438\n",
            "128373\n",
            "Your  collection is 12698\n",
            "141071\n",
            "Your  collection is 5442\n",
            "146513\n",
            "Your  collection is 334\n",
            "146847\n",
            "Your  collection is 6567\n",
            "153414\n",
            "Your  collection is 12033\n",
            "165447\n",
            "Your  collection is 7402\n",
            "172849\n",
            "Your  collection is 9101\n",
            "181950\n",
            "Your  collection is 10418\n",
            "192368\n",
            "Your  collection is 13377\n",
            "205745\n",
            "Digvijay you need to start again\n"
          ]
        }
      ]
    },
    {
      "cell_type": "code",
      "source": [
        "a = 100000\n",
        "b = a * 20 // 100  # 20% of salary\n",
        "while True:\n",
        "    if a >= 200000:\n",
        "        print('Congratulations! You have saved 2 lakh rupees.')\n",
        "        print('We will offer you a trip to Dubai!')\n",
        "        break\n",
        "    else:\n",
        "        print('Current savings:', a)\n",
        "        print('You saved 20% of your salary =', b)\n",
        "        a =a+ b\n",
        "        print('New salary after savings:', a)\n",
        "\n",
        "\n",
        "\n"
      ],
      "metadata": {
        "colab": {
          "base_uri": "https://localhost:8080/"
        },
        "id": "g0ySS5yw0MYp",
        "outputId": "545dafea-24df-446d-a549-bf9e12869885"
      },
      "execution_count": 29,
      "outputs": [
        {
          "output_type": "stream",
          "name": "stdout",
          "text": [
            "Current savings: 100000\n",
            "You saved 20% of your salary = 20000\n",
            "New salary after savings: 120000\n",
            "Current savings: 120000\n",
            "You saved 20% of your salary = 20000\n",
            "New salary after savings: 140000\n",
            "Current savings: 140000\n",
            "You saved 20% of your salary = 20000\n",
            "New salary after savings: 160000\n",
            "Current savings: 160000\n",
            "You saved 20% of your salary = 20000\n",
            "New salary after savings: 180000\n",
            "Current savings: 180000\n",
            "You saved 20% of your salary = 20000\n",
            "New salary after savings: 200000\n",
            "Congratulations! You have saved 2 lakh rupees.\n",
            "We will offer you a trip to Dubai!\n"
          ]
        }
      ]
    },
    {
      "cell_type": "code",
      "source": [
        "def test(a,b):\n",
        "  for i in range(9):\n",
        "    b+=1\n",
        "    c=a*b\n",
        "    d='*'\n",
        "    e='='\n",
        "    return(a,d,b,e,c)\n",
        "s=int(input('Enter a no'))\n",
        "d=int(input('Enter a no'))\n",
        "ss=test(s,d)\n",
        "print(ss)"
      ],
      "metadata": {
        "colab": {
          "base_uri": "https://localhost:8080/",
          "height": 106
        },
        "id": "SLfNtvBh2qwy",
        "outputId": "5853af64-e143-4cbb-e8fc-6b65893e3827"
      },
      "execution_count": 53,
      "outputs": [
        {
          "output_type": "error",
          "ename": "SyntaxError",
          "evalue": "'return' outside function (<ipython-input-53-1b4a6517923d>, line 7)",
          "traceback": [
            "\u001b[0;36m  File \u001b[0;32m\"<ipython-input-53-1b4a6517923d>\"\u001b[0;36m, line \u001b[0;32m7\u001b[0m\n\u001b[0;31m    return(a,d,b,e,c)\u001b[0m\n\u001b[0m    ^\u001b[0m\n\u001b[0;31mSyntaxError\u001b[0m\u001b[0;31m:\u001b[0m 'return' outside function\n"
          ]
        }
      ]
    },
    {
      "cell_type": "code",
      "source": [
        "def rah_we(**sd):\n",
        "  for key,value in sd.items():\n",
        "    print(key,value)\n",
        "  #a=gg[0]\n",
        "  #b=gg[1]\n",
        "  #c=gg[2]\n",
        "ff=rah_we(age='1',name='rahul')"
      ],
      "metadata": {
        "colab": {
          "base_uri": "https://localhost:8080/"
        },
        "id": "ViYNuNxoEK23",
        "outputId": "d15a5b44-c02e-4ded-bbc7-23da11da2f9a"
      },
      "execution_count": 62,
      "outputs": [
        {
          "output_type": "stream",
          "name": "stdout",
          "text": [
            "age 1\n",
            "name rahul\n"
          ]
        }
      ]
    },
    {
      "cell_type": "code",
      "source": [
        "def lst(n):\n",
        "  if n==0 or n==1:\n",
        "    return 1\n",
        "  else:\n",
        "    return n * lst(n-2)\n",
        "print(lst(5))"
      ],
      "metadata": {
        "colab": {
          "base_uri": "https://localhost:8080/"
        },
        "id": "g-zZMIkLNEqf",
        "outputId": "e7dfce40-7e34-4ed3-b199-99e3bbba8dc6"
      },
      "execution_count": 65,
      "outputs": [
        {
          "output_type": "stream",
          "name": "stdout",
          "text": [
            "15\n"
          ]
        }
      ]
    },
    {
      "cell_type": "code",
      "source": [
        "a=10\n",
        "def lst():\n",
        "   global a\n",
        "   print(a)\n",
        "lst()\n"
      ],
      "metadata": {
        "colab": {
          "base_uri": "https://localhost:8080/"
        },
        "id": "nc0hxCCyO7Jo",
        "outputId": "11b559a1-3d6c-4f93-ac35-840c7eceafe3"
      },
      "execution_count": 74,
      "outputs": [
        {
          "output_type": "stream",
          "name": "stdout",
          "text": [
            "10\n"
          ]
        }
      ]
    },
    {
      "cell_type": "code",
      "source": [
        "ff=lambda x:x+50\n",
        "print(ff(23))\n"
      ],
      "metadata": {
        "colab": {
          "base_uri": "https://localhost:8080/"
        },
        "id": "7gfg4bSCPvvV",
        "outputId": "81b16e37-5145-4435-b400-5012411f0304"
      },
      "execution_count": 79,
      "outputs": [
        {
          "output_type": "stream",
          "name": "stdout",
          "text": [
            "73\n"
          ]
        }
      ]
    },
    {
      "cell_type": "code",
      "source": [
        "try:\n",
        "  a=int(input('Enter a no'))\n",
        "  print(a)\n",
        "except ValueError:\n",
        "  print('Error is there')\n",
        "else:\n",
        "  print('Cant run this')\n",
        "finally:\n",
        "  print('chal gya bhai')"
      ],
      "metadata": {
        "colab": {
          "base_uri": "https://localhost:8080/"
        },
        "id": "rkTBXNQNRXYv",
        "outputId": "15e09d5a-7078-4843-8211-cdadf92b359d"
      },
      "execution_count": 87,
      "outputs": [
        {
          "output_type": "stream",
          "name": "stdout",
          "text": [
            "Enter a no1\n",
            "1\n",
            "Cant run this\n",
            "chal gya bhai\n"
          ]
        }
      ]
    },
    {
      "cell_type": "code",
      "source": [
        "'USER DEFINED FUNCTION'\n",
        "def a(d,e,s):\n",
        "  r=d+e-s\n",
        "  return r\n",
        "ff=a(2,3,1)\n",
        "print(ff)\n",
        "\n",
        "def func(*multiple):\n",
        "  r,a,p=multiple\n",
        "  f=r+a-p\n",
        "  return f\n",
        "ds=func(4,5,5)\n",
        "print(ds)\n",
        "\n",
        "def gg(**kwargs):\n",
        "  for key,value in kwargs.items():\n",
        "    print(key,value)\n",
        "gg(name='Bali')\n",
        "\n",
        "\n"
      ],
      "metadata": {
        "colab": {
          "base_uri": "https://localhost:8080/"
        },
        "id": "WG6myRZ7VqoS",
        "outputId": "1e98fa74-17de-4abe-f42d-4b2c2ab3c2ca"
      },
      "execution_count": 17,
      "outputs": [
        {
          "output_type": "stream",
          "name": "stdout",
          "text": [
            "4\n",
            "4\n",
            "name Bali\n"
          ]
        }
      ]
    },
    {
      "cell_type": "code",
      "source": [
        "a=10\n",
        "def my_fun():\n",
        "  global a\n",
        "  print(a)\n",
        "  a=5\n",
        "  print(a)\n",
        "my_fun()\n"
      ],
      "metadata": {
        "colab": {
          "base_uri": "https://localhost:8080/"
        },
        "id": "oAPA4OTR6wZD",
        "outputId": "001f3928-07a7-48c6-c7d7-bc355f7896b4"
      },
      "execution_count": 19,
      "outputs": [
        {
          "output_type": "stream",
          "name": "stdout",
          "text": [
            "10\n",
            "5\n"
          ]
        }
      ]
    },
    {
      "cell_type": "code",
      "source": [
        "def my_app():\n",
        "  print('''         Available Items:\n",
        "  Items                           Cost\n",
        "  1)Paneer                        74/-\n",
        "  2)Ketchup                       87/-\n",
        "  3)Coke                          100/-''')\n",
        "  fd={'Paneer':74,'Ketchup':87,'Coke':100}\n",
        "  ss=str(input('Enter the product name'))\n",
        "  dd=int(input('Enter the quantity [1/2/3/4]'))\n",
        "  if ss in fd:\n",
        "    total_price=fd[ss] *dd\n",
        "    print('Price of',ss,'=',total_price,'for',dd,'quantity')\n",
        "  else:\n",
        "    print('Select appropriately')\n",
        "my_app()\n",
        "\n",
        "\n",
        "\n"
      ],
      "metadata": {
        "colab": {
          "base_uri": "https://localhost:8080/"
        },
        "id": "RQBLzp9O_0Le",
        "outputId": "a17a48d3-634f-4ba9-8dc8-17c47300c00f"
      },
      "execution_count": 30,
      "outputs": [
        {
          "output_type": "stream",
          "name": "stdout",
          "text": [
            "         Available Items:\n",
            "  Items                           Cost\n",
            "  1)Paneer                        74/-\n",
            "  2)Ketchup                       87/-\n",
            "  3)Coke                          100/-\n",
            "Enter the product namePaneer\n",
            "Enter the quantity [1/2/3/4]3\n",
            "Price of Paneer = 222 for 3 quantity\n"
          ]
        }
      ]
    },
    {
      "cell_type": "code",
      "source": [
        "dataset = [1, 2, 3, 4, 5]  # Example dataset\n",
        "transformed_dataset = list(map(lambda x:x*2, dataset))\n",
        "print(transformed_dataset)\n"
      ],
      "metadata": {
        "colab": {
          "base_uri": "https://localhost:8080/"
        },
        "id": "esXd7DZPCURo",
        "outputId": "a7d849d5-39b9-4b1a-a02d-7945c64bd0df"
      },
      "execution_count": 32,
      "outputs": [
        {
          "output_type": "stream",
          "name": "stdout",
          "text": [
            "[2, 4, 6, 8, 10]\n"
          ]
        }
      ]
    },
    {
      "cell_type": "code",
      "source": [
        "def user():\n",
        "  dd=['yatharth','amit','sahil']\n",
        "  a=str(input('Enter the user name'))\n",
        "  if a in dd:\n",
        "    if a==dd[0]:\n",
        "      b=int(input('Enter paaword'))\n",
        "      if b==1234:\n",
        "        print('Login Succesful')\n",
        "      else:\n",
        "        print('Wrong Password')\n",
        "    if a==dd[1]:\n",
        "      b=int(input('Enter paaword'))\n",
        "      if b==234:\n",
        "        print('Login Succesful')\n",
        "      else:\n",
        "        print('Wrong Password')\n",
        "    if a==dd[2]:\n",
        "      b=int(input('Enter paaword'))\n",
        "      if b==34:\n",
        "        print('Login Succesful')\n",
        "      else:\n",
        "        print('Wrong Password')\n",
        "    else:\n",
        "      print('You are not a user in our company')\n",
        "user()\n",
        ""
      ],
      "metadata": {
        "colab": {
          "base_uri": "https://localhost:8080/"
        },
        "id": "iqd--9gHJJFq",
        "outputId": "c136398b-7fba-4d3c-be82-ead34d64a0ed"
      },
      "execution_count": 36,
      "outputs": [
        {
          "output_type": "stream",
          "name": "stdout",
          "text": [
            "Enter the user namesahil\n",
            "Enter paaword34\n",
            "Login Succesful\n"
          ]
        }
      ]
    },
    {
      "cell_type": "code",
      "source": [
        "player_health=100\n",
        "player_score=0\n",
        "player_level=1\n",
        "def mat():\n",
        "  while True:\n",
        "      s=int(input('How much points player score'))\n",
        "      global player_health, player_score, player_level\n",
        "      if s>1:\n",
        "        player_score=player_score+1\n",
        "        player_level=player_level+1\n",
        "        player_health=player_health-1\n",
        "        print('Stats of player are as follows: Heath',player_health,'Level',player_level,'Score',player_score)\n",
        "        b=str(input('You want to enter more[Y/N]'))\n",
        "        if b=='N':\n",
        "          break\n",
        "      else:\n",
        "        print('Player didnt play well')\n",
        "mat()\n",
        "\n"
      ],
      "metadata": {
        "colab": {
          "base_uri": "https://localhost:8080/"
        },
        "id": "hRPtCBtiKTty",
        "outputId": "c4964289-b5d4-47a2-dc7c-c3f8f6208905"
      },
      "execution_count": 46,
      "outputs": [
        {
          "name": "stdout",
          "output_type": "stream",
          "text": [
            "How much points player score23\n",
            "Stats of player are as follows: Heath 99 Level 2 Score 1\n",
            "You want to enter more[Y/N]Y\n",
            "How much points player score32\n",
            "Stats of player are as follows: Heath 98 Level 3 Score 2\n",
            "You want to enter more[Y/N]N\n"
          ]
        }
      ]
    },
    {
      "cell_type": "code",
      "source": [
        "def calculator():\n",
        "  a=int(input('Enter a no'))\n",
        "  b=int(input('Enter a no'))\n",
        "  c=str(input('Enter the operator[+,-,*,//]'))\n",
        "  if c=='+':\n",
        "    print(a+b)\n",
        "  elif c=='-':\n",
        "    print(a-b)\n",
        "  elif c=='*':\n",
        "    print(a*b)\n",
        "  elif c=='//':\n",
        "    print(a//b)\n",
        "  else:\n",
        "    print('Invalid operator')\n",
        "calculator()"
      ],
      "metadata": {
        "colab": {
          "base_uri": "https://localhost:8080/"
        },
        "id": "W74C9t8VN05Y",
        "outputId": "c53727c6-5baa-4b8a-c198-0d06440d9e13"
      },
      "execution_count": 48,
      "outputs": [
        {
          "output_type": "stream",
          "name": "stdout",
          "text": [
            "Enter a no23\n",
            "Enter a no2\n",
            "Enter the operator[+,-,*,//]//\n",
            "11\n"
          ]
        }
      ]
    },
    {
      "cell_type": "code",
      "source": [
        "#LAMBDA FUNCTION\n",
        "a=lambda x,y:x+y\n",
        "print(a(2,3))\n",
        "\n",
        "#map\n",
        "s=[1,2,3,4,5]\n",
        "ss=list(map(lambda x:x*2,s))\n",
        "print(ss)\n",
        "\n",
        "#filter\n",
        "g=[1,2,3,4,5]\n",
        "gg=list(filter(lambda x:x%2==0,s))\n",
        "print(gg)\n",
        "\n",
        "#sorted\n",
        "w=[1,2,3,4,5]\n",
        "ww=sorted(s,reverse=True)\n",
        "print(ww)\n",
        "\n"
      ],
      "metadata": {
        "colab": {
          "base_uri": "https://localhost:8080/"
        },
        "id": "bWMh1YnSRfp4",
        "outputId": "47ae6003-3c4b-4301-b684-dbf674a819e9"
      },
      "execution_count": 54,
      "outputs": [
        {
          "output_type": "stream",
          "name": "stdout",
          "text": [
            "5\n",
            "[2, 4, 6, 8, 10]\n",
            "[2, 4]\n",
            "[5, 4, 3, 2, 1]\n"
          ]
        }
      ]
    },
    {
      "cell_type": "code",
      "source": [
        "\n",
        "def user(**kwargs):\n",
        "  a=input('Enter a name')\n",
        "  b=input('Enter a password')\n",
        "  if (a,b) in kwargs.items():\n",
        "    print('Login Succesful')\n",
        "  else:\n",
        "    print('Login Failed')\n",
        "ff={'Yatharth':'passwd1','Sumit':'passwd2','goblin':'passwd3'}\n",
        "user(**ff)\n",
        "\n",
        "\n"
      ],
      "metadata": {
        "colab": {
          "base_uri": "https://localhost:8080/"
        },
        "id": "JkO1_DHhSbZH",
        "outputId": "17cc48bd-8b37-4832-e534-080d3662498d"
      },
      "execution_count": 62,
      "outputs": [
        {
          "output_type": "stream",
          "name": "stdout",
          "text": [
            "Enter a nameYatharth\n",
            "Enter a passwordpasswd1\n",
            "Login Succesful\n"
          ]
        }
      ]
    },
    {
      "cell_type": "code",
      "source": [],
      "metadata": {
        "id": "ovscPqLMWQRC"
      },
      "execution_count": 68,
      "outputs": []
    },
    {
      "cell_type": "code",
      "source": [],
      "metadata": {
        "id": "3TxtRFACZKak"
      },
      "execution_count": null,
      "outputs": []
    }
  ]
}