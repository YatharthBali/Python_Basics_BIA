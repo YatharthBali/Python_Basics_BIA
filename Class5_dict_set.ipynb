{
  "nbformat": 4,
  "nbformat_minor": 0,
  "metadata": {
    "colab": {
      "provenance": []
    },
    "kernelspec": {
      "name": "python3",
      "display_name": "Python 3"
    },
    "language_info": {
      "name": "python"
    }
  },
  "cells": [
    {
      "cell_type": "code",
      "execution_count": null,
      "metadata": {
        "colab": {
          "base_uri": "https://localhost:8080/"
        },
        "id": "h7TdqRkgpAYi",
        "outputId": "d9f1fcc4-a2b0-4e09-df6f-17b12e8bfcac"
      },
      "outputs": [
        {
          "output_type": "stream",
          "name": "stdout",
          "text": [
            "DICT-SET-PRACTICAL\n"
          ]
        }
      ],
      "source": [
        "print('DICT-SET-PRACTICAL')"
      ]
    },
    {
      "cell_type": "code",
      "source": [
        "a={'name':'yatharth','age':22,'time':5.55}\n",
        "n={'class':'bia','teacher':'karan'}\n",
        "a['time']=5.56#normal update/ADD\n",
        "a.update(n)#update\n",
        "a.pop('age')#pop\n",
        "a.popitem()#popitem\n",
        "c=['age','teacher']\n",
        "if _ in c:#membership\n",
        "    del a['name']#del\n",
        "    print(a)\n",
        "b=a.keys()\n",
        "print(b)\n",
        "d=a.values()\n",
        "print(d)\n",
        "e=a.items()\n",
        "print(e)\n",
        "s=sorted(a.items())#SORT\n",
        "print(s)\n",
        "e={'Alice':{'Name':'Alice','Age':22,'Profession':'Doctor'}}\n",
        "for key in e.keys():\n",
        "  for i in key:\n",
        "    print(i)\n",
        "    # print(key)\n"
      ],
      "metadata": {
        "colab": {
          "base_uri": "https://localhost:8080/"
        },
        "id": "Q8qCCtiVpCVM",
        "outputId": "c4e257d6-09c6-407a-87a7-879f0c907424"
      },
      "execution_count": null,
      "outputs": [
        {
          "output_type": "stream",
          "name": "stdout",
          "text": [
            "dict_keys(['name', 'time', 'class'])\n",
            "dict_values(['yatharth', 5.56, 'bia'])\n",
            "dict_items([('name', 'yatharth'), ('time', 5.56), ('class', 'bia')])\n",
            "[('class', 'bia'), ('name', 'yatharth'), ('time', 5.56)]\n",
            "A\n",
            "l\n",
            "i\n",
            "c\n",
            "e\n"
          ]
        }
      ]
    },
    {
      "cell_type": "code",
      "source": [
        "student_info = {'name': 'Alice', 'age': 22, 'grade': 'A'}  # Example Dictionary\n",
        "del student_info['grade']  # Removes the 'grade' key and its associated value\n",
        "print(student_info)  # Output: {'name': 'Alice', 'age': 22}\n",
        "\n",
        "to_del = ['name', 'age']\n",
        "\n",
        "for _ in to_del:\n",
        "  if _ in student_info:\n",
        "    del student_info[_]\n",
        "    #student_info.pop(_)"
      ],
      "metadata": {
        "colab": {
          "base_uri": "https://localhost:8080/"
        },
        "id": "w_Jc1eT3D3eq",
        "outputId": "ee1c6371-9113-4199-fd27-56a82d699296"
      },
      "execution_count": null,
      "outputs": [
        {
          "output_type": "stream",
          "name": "stdout",
          "text": [
            "{'name': 'Alice', 'age': 22}\n"
          ]
        }
      ]
    },
    {
      "cell_type": "code",
      "source": [
        "e={'name':{'name1':'adi','name2':'prakash'},'age':{'age1':22,'age2':23}}\n",
        "for key in e.values():\n",
        "  for i in key.values():\n",
        "    print(i)"
      ],
      "metadata": {
        "colab": {
          "base_uri": "https://localhost:8080/"
        },
        "id": "p0zFUCa9FNXL",
        "outputId": "3a9eb755-56a9-4690-c877-b40c91816934"
      },
      "execution_count": null,
      "outputs": [
        {
          "output_type": "stream",
          "name": "stdout",
          "text": [
            "adi\n",
            "prakash\n",
            "22\n",
            "23\n"
          ]
        }
      ]
    },
    {
      "cell_type": "code",
      "source": [
        "a={11,32,44,55}\n",
        "print(a)"
      ],
      "metadata": {
        "colab": {
          "base_uri": "https://localhost:8080/"
        },
        "id": "Ymmb52ScMCbj",
        "outputId": "4807e994-16ee-42d0-956b-653255f982b4"
      },
      "execution_count": null,
      "outputs": [
        {
          "output_type": "stream",
          "name": "stdout",
          "text": [
            "{32, 11, 44, 55}\n"
          ]
        }
      ]
    },
    {
      "cell_type": "code",
      "source": [
        "a={33,56,98,2,43}\n",
        "print(a)\n"
      ],
      "metadata": {
        "colab": {
          "base_uri": "https://localhost:8080/"
        },
        "id": "1VRSL8orYVxy",
        "outputId": "97f80340-c029-45c1-c00b-292700cb34a0"
      },
      "execution_count": null,
      "outputs": [
        {
          "output_type": "stream",
          "name": "stdout",
          "text": [
            "{33, 98, 2, 56, 43}\n"
          ]
        }
      ]
    },
    {
      "cell_type": "code",
      "source": [
        "gh={'Joy':{'Name':'Alice','Age':22,'Profession':'Doctor'}}\n",
        "for i,j in gh.items():\n",
        "  for s in j.values():\n",
        "      print(s)\n",
        "  # for a in key:\n",
        "    # print(i)"
      ],
      "metadata": {
        "id": "W-Aal_XOZ0ul",
        "colab": {
          "base_uri": "https://localhost:8080/"
        },
        "outputId": "f4c62d6a-b73e-417c-9fb5-d1a66e46bb2b"
      },
      "execution_count": null,
      "outputs": [
        {
          "output_type": "stream",
          "name": "stdout",
          "text": [
            "Alice\n",
            "22\n",
            "Doctor\n"
          ]
        }
      ]
    },
    {
      "cell_type": "code",
      "source": [
        "'''DICT COMPREHENSION'''\n",
        "a={i:i**2 for i in range(1,11)}\n",
        "print(a)"
      ],
      "metadata": {
        "colab": {
          "base_uri": "https://localhost:8080/"
        },
        "id": "ACMxkg1_vzLQ",
        "outputId": "e253eafc-f3d4-45c9-fcc6-65c22db95f57"
      },
      "execution_count": null,
      "outputs": [
        {
          "output_type": "stream",
          "name": "stdout",
          "text": [
            "{1: 1, 2: 4, 3: 9, 4: 16, 5: 25, 6: 36, 7: 49, 8: 64, 9: 81, 10: 100}\n"
          ]
        }
      ]
    },
    {
      "cell_type": "code",
      "source": [
        "'''SET OPERATIONS'''\n",
        "set_test={1,6,2,3,5,4}\n",
        "print(set_test)\n"
      ],
      "metadata": {
        "colab": {
          "base_uri": "https://localhost:8080/"
        },
        "id": "bxxFHcPvxz4X",
        "outputId": "73f4ff53-5ec7-44c7-9ae2-cd3a451e4431"
      },
      "execution_count": null,
      "outputs": [
        {
          "output_type": "stream",
          "name": "stdout",
          "text": [
            "{1, 2, 3, 4, 5, 6}\n"
          ]
        }
      ]
    },
    {
      "cell_type": "code",
      "source": [
        "ad={2,4,5,3}\n",
        "print(ad)"
      ],
      "metadata": {
        "colab": {
          "base_uri": "https://localhost:8080/"
        },
        "id": "-Cy_MdCQyQmK",
        "outputId": "9cbbb53a-a852-4983-b510-11846528a172"
      },
      "execution_count": null,
      "outputs": [
        {
          "output_type": "stream",
          "name": "stdout",
          "text": [
            "{2, 3, 4, 5}\n"
          ]
        }
      ]
    },
    {
      "cell_type": "code",
      "source": [
        "s={2,17,8,6,9,7,3,5}\n",
        "print(s)\n"
      ],
      "metadata": {
        "colab": {
          "base_uri": "https://localhost:8080/"
        },
        "id": "Yh_vkWG-0rW2",
        "outputId": "07eda3ec-846d-47ea-bf1a-df8efcb6eff4"
      },
      "execution_count": null,
      "outputs": [
        {
          "output_type": "stream",
          "name": "stdout",
          "text": [
            "{2, 3, 5, 6, 7, 8, 9, 17}\n"
          ]
        }
      ]
    },
    {
      "cell_type": "code",
      "source": [
        "ss={1,16,2,5,6,9,8,3}\n",
        "print(ss)\n",
        "dd={1,23,44,6,9,2.1}\n",
        "print(dd)\n",
        "ff={1,33,2,55,3,4}\n",
        "print(ff)"
      ],
      "metadata": {
        "colab": {
          "base_uri": "https://localhost:8080/"
        },
        "id": "LjAT8nk71IAH",
        "outputId": "a4194c35-487d-4d70-a9d0-48668b71513a"
      },
      "execution_count": null,
      "outputs": [
        {
          "output_type": "stream",
          "name": "stdout",
          "text": [
            "{1, 2, 3, 5, 6, 8, 9, 16}\n",
            "{1, 2.1, 6, 23, 9, 44}\n",
            "{1, 2, 3, 4, 33, 55}\n"
          ]
        }
      ]
    },
    {
      "cell_type": "code",
      "source": [
        "test1={1,54,2,56,3,54,4}\n",
        "print(test1)\n",
        "test2={1,54,3,56,5,67,7}\n",
        "print(test2)\n",
        "test3={1,74,3,76,5,77,7}\n",
        "print(test3)\n",
        "test4={1,54,43,37,2,35}\n",
        "print(test4)\n",
        "test5={1,24,43,37,2,35}\n",
        "print(test5)"
      ],
      "metadata": {
        "colab": {
          "base_uri": "https://localhost:8080/"
        },
        "id": "lgFjH2o82DPn",
        "outputId": "be9840b5-648c-46d6-ed4d-6c128ccb4b41"
      },
      "execution_count": null,
      "outputs": [
        {
          "output_type": "stream",
          "name": "stdout",
          "text": [
            "{1, 2, 3, 4, 54, 56}\n",
            "{1, 67, 3, 5, 54, 7, 56}\n",
            "{1, 3, 5, 7, 74, 76, 77}\n",
            "{1, 2, 35, 37, 54, 43}\n",
            "{1, 2, 35, 37, 24, 43}\n"
          ]
        }
      ]
    },
    {
      "cell_type": "code",
      "source": [
        "test5={1,24,43,37,2,35}\n",
        "test5=sorted(test5)\n",
        "print(test5)"
      ],
      "metadata": {
        "colab": {
          "base_uri": "https://localhost:8080/"
        },
        "id": "q2y2OnD13KML",
        "outputId": "52e1cdef-11e4-4ad6-aaa4-a68ba9dcd914"
      },
      "execution_count": null,
      "outputs": [
        {
          "output_type": "stream",
          "name": "stdout",
          "text": [
            "[1, 2, 24, 35, 37, 43]\n"
          ]
        }
      ]
    },
    {
      "cell_type": "code",
      "source": [
        "'''FUNCTION ON SETS'''\n",
        "sw={1,2,3,44,556}\n",
        "ss={23,43,21}\n",
        "sw.update(ss)\n",
        "print(sw)\n",
        "sw.remove(2)\n",
        "print(sw)\n",
        "sw.pop()\n",
        "print(sw)\n",
        "sw.remove(3)\n",
        "print(sw)\n",
        "print(ss in sw)\n",
        "print(sw | ss)\n",
        "print(sw & ss)\n",
        "print(sw - ss)\n",
        "print(sw ^ ss)"
      ],
      "metadata": {
        "colab": {
          "base_uri": "https://localhost:8080/"
        },
        "id": "KICEwJx5_6Je",
        "outputId": "285712ae-e2b8-4789-9434-274e07bbf6cb"
      },
      "execution_count": null,
      "outputs": [
        {
          "output_type": "stream",
          "name": "stdout",
          "text": [
            "{1, 2, 3, 21, 23, 43, 44, 556}\n",
            "{1, 3, 21, 23, 43, 44, 556}\n",
            "{3, 21, 23, 43, 44, 556}\n",
            "{21, 23, 43, 44, 556}\n",
            "False\n",
            "{21, 23, 43, 44, 556}\n",
            "{43, 21, 23}\n",
            "{44, 556}\n",
            "{44, 556}\n"
          ]
        }
      ]
    },
    {
      "cell_type": "code",
      "source": [
        "lp={1,2,3,4,5}\n",
        "lp.pop()\n",
        "print(lp)\n",
        "dp={1,2,3,4,5}\n",
        "dp.pop()\n",
        "print(dp)\n",
        "sww={1,2,2,54}\n",
        "print(lp ^ sww)"
      ],
      "metadata": {
        "colab": {
          "base_uri": "https://localhost:8080/"
        },
        "id": "tPUy5ZKtAE5V",
        "outputId": "2bbc8f04-bc2d-41e1-cf7f-dadc8874bc21"
      },
      "execution_count": null,
      "outputs": [
        {
          "output_type": "stream",
          "name": "stdout",
          "text": [
            "{2, 3, 4, 5}\n",
            "{2, 3, 4, 5}\n",
            "{1, 3, 4, 5, 54}\n"
          ]
        }
      ]
    },
    {
      "cell_type": "code",
      "source": [
        "sd={1,2,3,44,5}\n",
        "ds={2,34,54,4,44}\n",
        "print(sd ^ ds)"
      ],
      "metadata": {
        "colab": {
          "base_uri": "https://localhost:8080/"
        },
        "id": "XW94E6j6Em1Q",
        "outputId": "af573397-5c6c-4912-e4a4-14e047a834a8"
      },
      "execution_count": null,
      "outputs": [
        {
          "output_type": "stream",
          "name": "stdout",
          "text": [
            "{1, 34, 4, 3, 54, 5}\n"
          ]
        }
      ]
    },
    {
      "cell_type": "code",
      "source": [
        "'''HANDS ON DICTIONARY'''"
      ],
      "metadata": {
        "colab": {
          "base_uri": "https://localhost:8080/",
          "height": 36
        },
        "id": "DiO4oIlrGgOU",
        "outputId": "cd2cde4e-f0cd-46f6-ce89-b1488349e1ed"
      },
      "execution_count": null,
      "outputs": [
        {
          "output_type": "execute_result",
          "data": {
            "text/plain": [
              "'HANDS ON DICTIONARY'"
            ],
            "application/vnd.google.colaboratory.intrinsic+json": {
              "type": "string"
            }
          },
          "metadata": {},
          "execution_count": 51
        }
      ]
    },
    {
      "cell_type": "code",
      "source": [
        "#Q1-YATHARTH\n",
        "job={'yatharth':15000,'kartik':54000,'digvijay':40000,'dev':2500}\n",
        "s=[]\n",
        "for i,j in job.items():\n",
        "  max_salary=max(job.values())\n",
        "  if j==max_salary:\n",
        "      print('maximum salary is',max_salary,'of',i,'employee')\n",
        "\n",
        "average_salary=sum(job.values())/len(job)\n",
        "print('average salary is',average_salary)\n",
        "sort_name=sorted(job.keys())\n",
        "print('sorted name are',sort_name)\n",
        "for i,j in job.items():\n",
        "  if j>5000:#5000 is threshold salary here\n",
        "     s.append(i)\n",
        "print('salary is greater than 5000 ie threshold, names are:',s)"
      ],
      "metadata": {
        "colab": {
          "base_uri": "https://localhost:8080/"
        },
        "id": "AWKHBhUoGxNy",
        "outputId": "f9b87e4e-25f3-4562-93bd-30e1ebba7972"
      },
      "execution_count": 10,
      "outputs": [
        {
          "output_type": "stream",
          "name": "stdout",
          "text": [
            "maximum salary is 54000 of kartik employee\n",
            "average salary is 27875.0\n",
            "sorted name are ['dev', 'digvijay', 'kartik', 'yatharth']\n",
            "salary is greater than 5000 ie threshold, names are: ['yatharth', 'kartik', 'digvijay']\n"
          ]
        }
      ]
    },
    {
      "cell_type": "code",
      "source": [
        "#Q3-Yatharth\n",
        "rate=[]\n",
        "names={'hoshiyar','kartik','digvijay','dev'}\n",
        "ratings={2,4,6,9}\n",
        "s=dict(zip(names,ratings))\n",
        "s.update({'yatharth':10})\n",
        "print(s)\n",
        "for i,j in s.items():\n",
        "  max_rating=max(s.values())\n",
        "  if j==max_rating:\n",
        "      print('maximum rating is',max_rating,'of',i,'student')\n",
        "average_rating=sum(s.values())/len(s)\n",
        "print('average rating is',average_rating)\n",
        "sort_name=sorted(s.keys())\n",
        "print('sorted name are',sort_name,'ratings',sorted(s.values()))\n",
        "for i,j in s.items():\n",
        "  if j>8:#threshold rating\n",
        "    rate.append(i)\n",
        "print('rating greater than 8, names are:',rate)\n",
        "\n"
      ],
      "metadata": {
        "id": "G8AR2goHKwP4",
        "colab": {
          "base_uri": "https://localhost:8080/"
        },
        "outputId": "9ec00d18-0648-46a4-9841-20e774b3bf57"
      },
      "execution_count": 32,
      "outputs": [
        {
          "output_type": "stream",
          "name": "stdout",
          "text": [
            "{'kartik': 9, 'dev': 2, 'digvijay': 4, 'hoshiyar': 6, 'yatharth': 10}\n",
            "maximum rating is 10 of yatharth student\n",
            "average rating is 6.2\n",
            "sorted name are ['dev', 'digvijay', 'hoshiyar', 'kartik', 'yatharth'] ratings [2, 4, 6, 9, 10]\n",
            "rating greater than 8, names are: ['kartik', 'yatharth']\n"
          ]
        }
      ]
    },
    {
      "cell_type": "code",
      "source": [
        "#Question4-yatharth\n",
        "bonus=0.1\n",
        "data={'yatharth':{15000:5},'kartik':{54000:7},'digvijay':{40000:9},'dev':{2500:2}}\n",
        "for i,j in data.items():\n",
        "  for k,l in j.items():\n",
        "    if l>5:#ranking\n",
        "     new_salary=k+int(k*bonus)\n",
        "     data[i]={new_salary:l}\n",
        "print(data)\n",
        "sort_names=sorted(data.keys())\n",
        "salaries = [list(sorted(j.keys()))[0] for j in data.values()]\n",
        "print('sorted name are',sort_names,'salary',salaries)\n",
        "\n"
      ],
      "metadata": {
        "colab": {
          "base_uri": "https://localhost:8080/"
        },
        "id": "8N-TEB6_TJnh",
        "outputId": "f0954c6b-7830-4c8d-b7f3-31c574b20d86"
      },
      "execution_count": 52,
      "outputs": [
        {
          "output_type": "stream",
          "name": "stdout",
          "text": [
            "{'yatharth': {15000: 5}, 'kartik': {59400: 7}, 'digvijay': {44000: 9}, 'dev': {2500: 2}}\n",
            "sorted name are ['dev', 'digvijay', 'kartik', 'yatharth'] salary [15000, 59400, 44000, 2500]\n"
          ]
        }
      ]
    },
    {
      "cell_type": "code",
      "source": [
        "#SET QUESTIONS\n",
        "#Question1-Yat\n",
        "cs_students = {\"Alice\", \"Bob\", \"Charlie\"}\n",
        "math_students = {\"David\", \"Eva\", \"Charlie\"}\n",
        "cs_students.update(math_students)\n",
        "print(\"Updated set with Math students:\", cs_students)\n",
        "cs_students_copy = cs_students.copy()\n",
        "print(\"Copied set:\", cs_students_copy)\n",
        "cs_students.add(\"Fay\")\n",
        "print(\"Added new student:\", cs_students)\n",
        "cs_students.remove(\"Charlie\")\n",
        "print(\"Removed student:\", cs_students)\n",
        "cs_students.discard(\"Alice\")\n",
        "print(\"Discarded student:\", cs_students)\n",
        "cs_students.clear()\n",
        "print(\"Cleared all students:\", cs_students)\n"
      ],
      "metadata": {
        "colab": {
          "base_uri": "https://localhost:8080/"
        },
        "id": "Q-Z1iN9EaBHC",
        "outputId": "03f3a9dd-13bf-4ddb-82f3-cc73e7138f29"
      },
      "execution_count": 56,
      "outputs": [
        {
          "output_type": "stream",
          "name": "stdout",
          "text": [
            "Updated set with Math students: {'David', 'Alice', 'Eva', 'Charlie', 'Bob'}\n",
            "Copied set: {'David', 'Alice', 'Eva', 'Charlie', 'Bob'}\n",
            "Added new student: {'Fay', 'David', 'Alice', 'Eva', 'Charlie', 'Bob'}\n",
            "Removed student: {'Fay', 'David', 'Alice', 'Eva', 'Bob'}\n",
            "Discarded student: {'Fay', 'David', 'Eva', 'Bob'}\n",
            "Cleared all students: set()\n"
          ]
        }
      ]
    },
    {
      "cell_type": "code",
      "source": [
        "#Question2-yat\n",
        "students_activities = {\"Alice\", \"Bob\", \"Charlie\", \"Diana\"}\n",
        "robotics_club = {\"Eve\", \"Frank\"}\n",
        "students_activities.update(robotics_club)\n",
        "print(\"After adding Robotics Club members:\", students_activities)\n",
        "chess_club_leavers = {\"Alice\", \"Gina\"}\n",
        "for student in chess_club_leavers:\n",
        "    students_activities.discard(student)\n",
        "print(\"After removing Chess Club leavers:\", students_activities)\n",
        "students_activities_copy = students_activities.copy()\n",
        "print(\"Copy of students involved in activities:\", students_activities_copy)\n",
        "students_activities.pop()\n",
        "print(\"Students after popping one:\", students_activities)\n",
        "students_activities.clear()\n",
        "print(\"All students cleared:\", students_activities)\n"
      ],
      "metadata": {
        "colab": {
          "base_uri": "https://localhost:8080/"
        },
        "id": "qG501OHkfYRq",
        "outputId": "d84ea8e8-6579-4539-acdb-3052cfbff2df"
      },
      "execution_count": 58,
      "outputs": [
        {
          "output_type": "stream",
          "name": "stdout",
          "text": [
            "After adding Robotics Club members: {'Frank', 'Alice', 'Eve', 'Diana', 'Charlie', 'Bob'}\n",
            "After removing Chess Club leavers: {'Frank', 'Eve', 'Diana', 'Charlie', 'Bob'}\n",
            "Copy of students involved in activities: {'Frank', 'Eve', 'Diana', 'Charlie', 'Bob'}\n",
            "Students after popping one: {'Eve', 'Diana', 'Charlie', 'Bob'}\n",
            "All students cleared: set()\n"
          ]
        }
      ]
    },
    {
      "cell_type": "code",
      "source": [
        "#Question3-yat\n",
        "CS_students = {\"Alice\", \"Bob\", \"Charlie\", \"David\"}\n",
        "Activity_students = {\"Bob\", \"Charlie\", \"Eve\", \"Frank\"}\n",
        "CS_and_Activity_students = CS_students.intersection(Activity_students)\n",
        "Only_CS_students = CS_students - CS_and_Activity_students\n",
        "Only_Activity_students = Activity_students - CS_and_Activity_students\n",
        "print(\"Students in both CS and Activities:\", CS_and_Activity_students)\n",
        "print(\"Students only in CS:\", Only_CS_students)\n",
        "print(\"Students only in Activities:\", Only_Activity_students)\n"
      ],
      "metadata": {
        "colab": {
          "base_uri": "https://localhost:8080/"
        },
        "id": "QYjn4wVBgo7e",
        "outputId": "b71c0927-f3b7-4c5a-cc81-f87585ace7b8"
      },
      "execution_count": 59,
      "outputs": [
        {
          "output_type": "stream",
          "name": "stdout",
          "text": [
            "Students in both CS and Activities: {'Charlie', 'Bob'}\n",
            "Students only in CS: {'David', 'Alice'}\n",
            "Students only in Activities: {'Eve', 'Frank'}\n"
          ]
        }
      ]
    },
    {
      "cell_type": "code",
      "source": [
        "#Question4-yat\n",
        "computer_science_students = {\"digvijay\", \"yat\", \"Charlie\", \"David\", \"Eve\"}\n",
        "prerequisite_students = {\"Bob\", \"Charlie\", \"Eve\", \"Frank\", \"Grace\"}\n",
        "common_students = computer_science_students.intersection(prerequisite_students)\n",
        "print(\"Students in both Computer Science course and prerequisite course:\", common_students)\n",
        "only_prerequisite_students = prerequisite_students.difference(computer_science_students)\n",
        "print(\"Students only in the prerequisite course:\", only_prerequisite_students)\n"
      ],
      "metadata": {
        "colab": {
          "base_uri": "https://localhost:8080/"
        },
        "id": "2hHrSxuJj0X8",
        "outputId": "b6501962-393a-480d-98a9-76b199d6cf47"
      },
      "execution_count": 60,
      "outputs": [
        {
          "output_type": "stream",
          "name": "stdout",
          "text": [
            "Students in both Computer Science course and prerequisite course: {'Eve', 'Charlie'}\n",
            "Students only in the prerequisite course: {'Frank', 'Grace', 'Bob'}\n"
          ]
        }
      ]
    },
    {
      "cell_type": "code",
      "source": [
        "library_catalog = {\n",
        "    101: {\"title\": \"Python Crash Course\", \"author\": \"Eric Matthes\"},\n",
        "    102: {\"title\": \"Clean Code\", \"author\": \"Robert C. Martin\"},\n",
        "    103: {\"title\": \"The Pragmatic Programmer\", \"author\": \"Andrew Hunt, David Thomas\"},\n",
        "    104: {\"title\": \"Design Patterns\", \"author\": \"Erich Gamma, Richard Helm, Ralph Johnson, John Vlissides\"}\n",
        "}\n",
        "# for i,j in library_catalog.items():\n",
        "    # print('Book ID:',i,'Title:',{j['title']}, 'Author:', {j['author']})\n",
        "def check_book_in_catalog(i):\n",
        "    if i in library_catalog:\n",
        "      print('Book ID',i,'is in the catalog')\n",
        "      print('Title',{library_catalog[i]['title']},'Author',{library_catalog[i]['author']})\n",
        "    else:\n",
        "      print('Book ID',i,'is not in the catalog')\n",
        "check_book_in_catalog(102)\n",
        "def add_book(i, title, author):\n",
        "    library_catalog[i] = {\"title\": title, \"author\": author}\n",
        "    print('Book added to catalog with Book ID:',i)\n",
        "add_book(105, \"The Art of Computer Programming\", \"Donald Knuth\")\n",
        "def remove_book_from_catalog(i):\n",
        "    if i in library_catalog:\n",
        "        del library_catalog[i]\n",
        "        print('Book Id',i,'removed')\n",
        "    else:\n",
        "        print('Book Id',i,'not removed')\n",
        "remove_book_from_catalog(103)\n",
        "def update_book_details(book_id, title=None, author=None):\n",
        "    if book_id in library_catalog:\n",
        "        if title:\n",
        "            library_catalog[book_id]['title'] = title\n",
        "        if author:\n",
        "            library_catalog[book_id]['author'] = author\n",
        "        print(f\"Details updated for Book ID {book_id}.\")\n",
        "        print(f\"Updated Title: {library_catalog[book_id]['title']}, Author: {library_catalog[book_id]['author']}\")\n",
        "    else:\n",
        "        print(f\"Book ID {book_id} not found in catalog.\")\n",
        "update_book_details(101, title=\"Python Programming for Beginners\")"
      ],
      "metadata": {
        "colab": {
          "base_uri": "https://localhost:8080/"
        },
        "id": "qnRf-IrfkXpA",
        "outputId": "cc5a5062-365a-4acd-fdd3-88792a7b58d4"
      },
      "execution_count": 68,
      "outputs": [
        {
          "output_type": "stream",
          "name": "stdout",
          "text": [
            "Book ID 102 is in the catalog\n",
            "Title {'Clean Code'} Author {'Robert C. Martin'}\n",
            "Book added to catalog with Book ID: 105\n",
            "Book Id 103 removed\n",
            "Details updated for Book ID 101.\n",
            "Updated Title: Python Programming for Beginners, Author: Eric Matthes\n"
          ]
        }
      ]
    },
    {
      "cell_type": "code",
      "source": [],
      "metadata": {
        "id": "ipRHCZCJnJX3"
      },
      "execution_count": null,
      "outputs": []
    }
  ]
}