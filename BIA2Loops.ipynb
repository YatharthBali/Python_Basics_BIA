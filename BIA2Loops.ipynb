{
  "nbformat": 4,
  "nbformat_minor": 0,
  "metadata": {
    "colab": {
      "provenance": []
    },
    "kernelspec": {
      "name": "python3",
      "display_name": "Python 3"
    },
    "language_info": {
      "name": "python"
    }
  },
  "cells": [
    {
      "cell_type": "code",
      "execution_count": null,
      "metadata": {
        "id": "jgD2qwmBc2zH",
        "colab": {
          "base_uri": "https://localhost:8080/"
        },
        "outputId": "6cb6fda7-6801-4a94-ef59-aa61119353a2"
      },
      "outputs": [
        {
          "output_type": "execute_result",
          "data": {
            "text/plain": [
              "True"
            ]
          },
          "metadata": {},
          "execution_count": 2
        }
      ],
      "source": [
        "a,b=65,65\n",
        "id(a)==id(b)"
      ]
    },
    {
      "cell_type": "code",
      "source": [
        "a='python'\n",
        "a[-1:-3:-1]\n"
      ],
      "metadata": {
        "colab": {
          "base_uri": "https://localhost:8080/",
          "height": 36
        },
        "id": "mglRkGwcn6Gi",
        "outputId": "0a894ed8-0020-47ff-83f8-60f2e81f1ae8"
      },
      "execution_count": null,
      "outputs": [
        {
          "output_type": "execute_result",
          "data": {
            "text/plain": [
              "'no'"
            ],
            "application/vnd.google.colaboratory.intrinsic+json": {
              "type": "string"
            }
          },
          "metadata": {},
          "execution_count": 3
        }
      ]
    },
    {
      "cell_type": "code",
      "source": [
        "a.capitalize()\n"
      ],
      "metadata": {
        "colab": {
          "base_uri": "https://localhost:8080/",
          "height": 36
        },
        "id": "rd0ghCNXsPRZ",
        "outputId": "0a005638-cb5b-4316-f78b-d32dfbfd42ee"
      },
      "execution_count": null,
      "outputs": [
        {
          "output_type": "execute_result",
          "data": {
            "text/plain": [
              "'Python'"
            ],
            "application/vnd.google.colaboratory.intrinsic+json": {
              "type": "string"
            }
          },
          "metadata": {},
          "execution_count": 4
        }
      ]
    },
    {
      "cell_type": "code",
      "source": [
        "a.count('t')"
      ],
      "metadata": {
        "colab": {
          "base_uri": "https://localhost:8080/"
        },
        "id": "lyq0oagBtbs6",
        "outputId": "29e0ad4c-fa67-4faa-94d4-703659929d3d"
      },
      "execution_count": null,
      "outputs": [
        {
          "output_type": "execute_result",
          "data": {
            "text/plain": [
              "1"
            ]
          },
          "metadata": {},
          "execution_count": 5
        }
      ]
    },
    {
      "cell_type": "code",
      "source": [
        "a.index('t')"
      ],
      "metadata": {
        "colab": {
          "base_uri": "https://localhost:8080/"
        },
        "id": "ErXrtTUquAoR",
        "outputId": "9e000b27-1d19-4110-bcb1-a6ccf876cbd2"
      },
      "execution_count": null,
      "outputs": [
        {
          "output_type": "execute_result",
          "data": {
            "text/plain": [
              "2"
            ]
          },
          "metadata": {},
          "execution_count": 6
        }
      ]
    },
    {
      "cell_type": "code",
      "source": [
        "a=('mom mam if ok')\n",
        "a.count('mom')"
      ],
      "metadata": {
        "colab": {
          "base_uri": "https://localhost:8080/"
        },
        "id": "ORvv1f6cuGO7",
        "outputId": "f5a4a57d-9bb5-4a91-85d4-5db8eaf9ec84"
      },
      "execution_count": null,
      "outputs": [
        {
          "output_type": "execute_result",
          "data": {
            "text/plain": [
              "1"
            ]
          },
          "metadata": {},
          "execution_count": 7
        }
      ]
    },
    {
      "cell_type": "code",
      "source": [
        "a.count('m')"
      ],
      "metadata": {
        "colab": {
          "base_uri": "https://localhost:8080/"
        },
        "id": "agYvLHYLvPBu",
        "outputId": "2cf1c359-6334-4344-c20c-ae260b70fcf5"
      },
      "execution_count": null,
      "outputs": [
        {
          "output_type": "execute_result",
          "data": {
            "text/plain": [
              "4"
            ]
          },
          "metadata": {},
          "execution_count": 8
        }
      ]
    },
    {
      "cell_type": "code",
      "source": [
        "a.count('mm')"
      ],
      "metadata": {
        "colab": {
          "base_uri": "https://localhost:8080/"
        },
        "id": "Vfg9mBEFvVZO",
        "outputId": "25e8f562-b98d-4da1-b7f8-17c66e454305"
      },
      "execution_count": null,
      "outputs": [
        {
          "output_type": "execute_result",
          "data": {
            "text/plain": [
              "0"
            ]
          },
          "metadata": {},
          "execution_count": 9
        }
      ]
    },
    {
      "cell_type": "code",
      "source": [
        "a.count('ko')"
      ],
      "metadata": {
        "colab": {
          "base_uri": "https://localhost:8080/"
        },
        "id": "TAmhRyy6vlBK",
        "outputId": "70b42375-7ae4-4616-b2aa-bf0a7eebbfd5"
      },
      "execution_count": null,
      "outputs": [
        {
          "output_type": "execute_result",
          "data": {
            "text/plain": [
              "0"
            ]
          },
          "metadata": {},
          "execution_count": 10
        }
      ]
    },
    {
      "cell_type": "code",
      "source": [
        "a='ijckciolk'\n",
        "a.isalpha()"
      ],
      "metadata": {
        "colab": {
          "base_uri": "https://localhost:8080/"
        },
        "id": "zgalms3SvqJy",
        "outputId": "0c708208-941c-430d-81c6-df6b4766b6e5"
      },
      "execution_count": null,
      "outputs": [
        {
          "output_type": "execute_result",
          "data": {
            "text/plain": [
              "True"
            ]
          },
          "metadata": {},
          "execution_count": 11
        }
      ]
    },
    {
      "cell_type": "code",
      "source": [
        "a=('ji uhij')\n",
        "a.isalpha()"
      ],
      "metadata": {
        "colab": {
          "base_uri": "https://localhost:8080/"
        },
        "id": "NS3CyyZdwWpp",
        "outputId": "1e410820-1680-482d-ebae-920548e678e7"
      },
      "execution_count": null,
      "outputs": [
        {
          "output_type": "execute_result",
          "data": {
            "text/plain": [
              "False"
            ]
          },
          "metadata": {},
          "execution_count": 13
        }
      ]
    },
    {
      "cell_type": "code",
      "source": [],
      "metadata": {
        "id": "SfgFIxu700u_"
      },
      "execution_count": null,
      "outputs": []
    },
    {
      "cell_type": "code",
      "source": [
        "a=int(input('Please Enter the no'))\n",
        "if a==int(a) and a!=float(a):\n",
        "  print('successful')\n",
        "elif a%2==0:\n",
        "  print('Operation Done')\n",
        "else:\n",
        "  print('{} : Execution not done'.format(a))"
      ],
      "metadata": {
        "colab": {
          "base_uri": "https://localhost:8080/"
        },
        "id": "kD-LI19Rwftr",
        "outputId": "189eb2c4-adbf-4e33-ead3-65c76e1dfa36"
      },
      "execution_count": null,
      "outputs": [
        {
          "output_type": "stream",
          "name": "stdout",
          "text": [
            "Please Enter the no321\n",
            "321 : Execution not done\n"
          ]
        }
      ]
    },
    {
      "cell_type": "code",
      "source": [
        "a=int(input('Enter a number'))\n",
        "if a>0:\n",
        "  print('Yes')\n",
        "\n",
        "b=int(input('Enter a number'))\n",
        "if b>=18:\n",
        "  print('Eligible')\n",
        "else:\n",
        "  print('no')\n",
        "\n",
        "c=str(input('Enter the grade'))\n",
        "if c=='A':\n",
        "  print('Excellent')\n",
        "elif c=='B' or c=='C':\n",
        "  print('Average')\n",
        "else:\n",
        "  'Fail'\n",
        "\n",
        "d=int(input('Enter a number'))\n",
        "if d%2==0:\n",
        "  print('even')\n",
        "  if d>0:\n",
        "    print('positive')\n",
        "  elif d<0:\n",
        "    print('negative')\n",
        "  else:\n",
        "    print('number is 0')\n",
        "else:\n",
        "  print('number is odd')\n",
        "  if d>0:\n",
        "    print('positive')\n",
        "  elif d<0:\n",
        "    print('negative')\n",
        "  else:\n",
        "    print('number is 0')"
      ],
      "metadata": {
        "colab": {
          "base_uri": "https://localhost:8080/",
          "height": 408
        },
        "id": "pSlT7AmgyZO_",
        "outputId": "69d248c1-de9f-4057-b5b0-4a3bba60d19a"
      },
      "execution_count": null,
      "outputs": [
        {
          "output_type": "stream",
          "name": "stdout",
          "text": [
            "Enter a number43\n",
            "Yes\n"
          ]
        },
        {
          "output_type": "error",
          "ename": "KeyboardInterrupt",
          "evalue": "Interrupted by user",
          "traceback": [
            "\u001b[0;31m---------------------------------------------------------------------------\u001b[0m",
            "\u001b[0;31mKeyboardInterrupt\u001b[0m                         Traceback (most recent call last)",
            "\u001b[0;32m<ipython-input-47-4a4e79796973>\u001b[0m in \u001b[0;36m<cell line: 5>\u001b[0;34m()\u001b[0m\n\u001b[1;32m      3\u001b[0m   \u001b[0mprint\u001b[0m\u001b[0;34m(\u001b[0m\u001b[0;34m'Yes'\u001b[0m\u001b[0;34m)\u001b[0m\u001b[0;34m\u001b[0m\u001b[0;34m\u001b[0m\u001b[0m\n\u001b[1;32m      4\u001b[0m \u001b[0;34m\u001b[0m\u001b[0m\n\u001b[0;32m----> 5\u001b[0;31m \u001b[0mb\u001b[0m\u001b[0;34m=\u001b[0m\u001b[0mint\u001b[0m\u001b[0;34m(\u001b[0m\u001b[0minput\u001b[0m\u001b[0;34m(\u001b[0m\u001b[0;34m'Enter a number'\u001b[0m\u001b[0;34m)\u001b[0m\u001b[0;34m)\u001b[0m\u001b[0;34m\u001b[0m\u001b[0;34m\u001b[0m\u001b[0m\n\u001b[0m\u001b[1;32m      6\u001b[0m \u001b[0;32mif\u001b[0m \u001b[0mb\u001b[0m\u001b[0;34m>=\u001b[0m\u001b[0;36m18\u001b[0m\u001b[0;34m:\u001b[0m\u001b[0;34m\u001b[0m\u001b[0;34m\u001b[0m\u001b[0m\n\u001b[1;32m      7\u001b[0m   \u001b[0mprint\u001b[0m\u001b[0;34m(\u001b[0m\u001b[0;34m'Eligible'\u001b[0m\u001b[0;34m)\u001b[0m\u001b[0;34m\u001b[0m\u001b[0;34m\u001b[0m\u001b[0m\n",
            "\u001b[0;32m/usr/local/lib/python3.10/dist-packages/ipykernel/kernelbase.py\u001b[0m in \u001b[0;36mraw_input\u001b[0;34m(self, prompt)\u001b[0m\n\u001b[1;32m    849\u001b[0m                 \u001b[0;34m\"raw_input was called, but this frontend does not support input requests.\"\u001b[0m\u001b[0;34m\u001b[0m\u001b[0;34m\u001b[0m\u001b[0m\n\u001b[1;32m    850\u001b[0m             )\n\u001b[0;32m--> 851\u001b[0;31m         return self._input_request(str(prompt),\n\u001b[0m\u001b[1;32m    852\u001b[0m             \u001b[0mself\u001b[0m\u001b[0;34m.\u001b[0m\u001b[0m_parent_ident\u001b[0m\u001b[0;34m,\u001b[0m\u001b[0;34m\u001b[0m\u001b[0;34m\u001b[0m\u001b[0m\n\u001b[1;32m    853\u001b[0m             \u001b[0mself\u001b[0m\u001b[0;34m.\u001b[0m\u001b[0m_parent_header\u001b[0m\u001b[0;34m,\u001b[0m\u001b[0;34m\u001b[0m\u001b[0;34m\u001b[0m\u001b[0m\n",
            "\u001b[0;32m/usr/local/lib/python3.10/dist-packages/ipykernel/kernelbase.py\u001b[0m in \u001b[0;36m_input_request\u001b[0;34m(self, prompt, ident, parent, password)\u001b[0m\n\u001b[1;32m    893\u001b[0m             \u001b[0;32mexcept\u001b[0m \u001b[0mKeyboardInterrupt\u001b[0m\u001b[0;34m:\u001b[0m\u001b[0;34m\u001b[0m\u001b[0;34m\u001b[0m\u001b[0m\n\u001b[1;32m    894\u001b[0m                 \u001b[0;31m# re-raise KeyboardInterrupt, to truncate traceback\u001b[0m\u001b[0;34m\u001b[0m\u001b[0;34m\u001b[0m\u001b[0m\n\u001b[0;32m--> 895\u001b[0;31m                 \u001b[0;32mraise\u001b[0m \u001b[0mKeyboardInterrupt\u001b[0m\u001b[0;34m(\u001b[0m\u001b[0;34m\"Interrupted by user\"\u001b[0m\u001b[0;34m)\u001b[0m \u001b[0;32mfrom\u001b[0m \u001b[0;32mNone\u001b[0m\u001b[0;34m\u001b[0m\u001b[0;34m\u001b[0m\u001b[0m\n\u001b[0m\u001b[1;32m    896\u001b[0m             \u001b[0;32mexcept\u001b[0m \u001b[0mException\u001b[0m \u001b[0;32mas\u001b[0m \u001b[0me\u001b[0m\u001b[0;34m:\u001b[0m\u001b[0;34m\u001b[0m\u001b[0;34m\u001b[0m\u001b[0m\n\u001b[1;32m    897\u001b[0m                 \u001b[0mself\u001b[0m\u001b[0;34m.\u001b[0m\u001b[0mlog\u001b[0m\u001b[0;34m.\u001b[0m\u001b[0mwarning\u001b[0m\u001b[0;34m(\u001b[0m\u001b[0;34m\"Invalid Message:\"\u001b[0m\u001b[0;34m,\u001b[0m \u001b[0mexc_info\u001b[0m\u001b[0;34m=\u001b[0m\u001b[0;32mTrue\u001b[0m\u001b[0;34m)\u001b[0m\u001b[0;34m\u001b[0m\u001b[0;34m\u001b[0m\u001b[0m\n",
            "\u001b[0;31mKeyboardInterrupt\u001b[0m: Interrupted by user"
          ]
        }
      ]
    },
    {
      "cell_type": "code",
      "source": [
        "a=int(input('What is the Temprature'))\n",
        "b=int(input('Humidity Level in number between 0 to 100'))\n",
        "c=str(input('Is it Cloudy [Y/N]'))\n",
        "if a>=40 and a<50:\n",
        "  print('Temprature is hot')\n",
        "  if b==50 and c=='Y':\n",
        "    print('Fifty Fifty')\n",
        "  elif b>=75 and c=='Y':\n",
        "    print('Definitely it will rain')\n",
        "  elif b>=75 and c=='N':\n",
        "    print('Less Possibility')\n",
        "  elif b==50 and c=='N':\n",
        "    print('Inpossible')\n",
        "  else:\n",
        "    print('air pressure is more less possibility')\n",
        "elif a<30 and a<40:\n",
        "  print('Moderate Temprature')\n",
        "  if b==50 and c=='Y':\n",
        "    print('30%')\n",
        "  elif b>=75 and c=='Y':\n",
        "    print('60%')\n",
        "  elif b>=75 and c=='N':\n",
        "    print('No')\n",
        "  elif b==50 and c=='N':\n",
        "    print('Nil')\n",
        "  else:\n",
        "    print('air pressure is more less possibility')\n",
        "else:\n",
        "  print('It will not rain')\n"
      ],
      "metadata": {
        "colab": {
          "base_uri": "https://localhost:8080/"
        },
        "id": "2K6BxECQy-cY",
        "outputId": "9e05d346-c8ea-4052-b46b-fdfbc4e33f73"
      },
      "execution_count": null,
      "outputs": [
        {
          "output_type": "stream",
          "name": "stdout",
          "text": [
            "What is the Temprature43\n",
            "Humidity Level in number between 0 to 10065\n",
            "Is it Cloudy [Y/N]Y\n",
            "Temprature is hot\n",
            "air pressure is more less possibility\n"
          ]
        }
      ]
    },
    {
      "cell_type": "code",
      "source": [
        "import random\n",
        "lst = input('Enter names of your best friends').split()\n",
        "while True:\n",
        "    a = input('Do you want to add more names? [Y/N]: ')\n",
        "    if a.upper() == 'Y':\n",
        "        new_name = input('Enter the name to add: ')\n",
        "        lst.append(new_name)\n",
        "    elif a.upper() == 'N':\n",
        "        print('Current list of names:', lst)\n",
        "        break\n",
        "    else:\n",
        "        print('Please select appropriately [Y/N]')\n",
        "if lst:\n",
        "    b = random.choice(lst)\n",
        "    print('Randomly selected name:', b)\n",
        "else:\n",
        "    print('The list is empty, no name to select.')\n"
      ],
      "metadata": {
        "id": "g1NMKrx9zR-z",
        "colab": {
          "base_uri": "https://localhost:8080/"
        },
        "outputId": "fc460888-09f5-4246-aa95-0b7b164cda0a"
      },
      "execution_count": 11,
      "outputs": [
        {
          "output_type": "stream",
          "name": "stdout",
          "text": [
            "Enter names of your best friendsrik\n",
            "Do you want to add more names? [Y/N]: yes\n",
            "Please select appropriately [Y/N]\n",
            "Do you want to add more names? [Y/N]: Y\n",
            "Enter the name to add: ert\n",
            "Do you want to add more names? [Y/N]: y\n",
            "Enter the name to add: 543\n",
            "Do you want to add more names? [Y/N]: n\n",
            "Current list of names: ['rik', 'ert', '543']\n",
            "Randomly selected name: 543\n"
          ]
        }
      ]
    },
    {
      "cell_type": "code",
      "source": [
        "for i in range(5):\n",
        "  if i==2:\n",
        "    continue\n",
        "  print(i)"
      ],
      "metadata": {
        "colab": {
          "base_uri": "https://localhost:8080/"
        },
        "id": "0UGxtt7h_wXu",
        "outputId": "2cf279a1-202d-4854-8586-b7d0b0d4b6dc"
      },
      "execution_count": 17,
      "outputs": [
        {
          "output_type": "stream",
          "name": "stdout",
          "text": [
            "0\n",
            "1\n",
            "3\n",
            "4\n"
          ]
        }
      ]
    },
    {
      "cell_type": "code",
      "source": [
        "for i in range(5):\n",
        "  if i==2:\n",
        "    pass\n",
        "  print(i)"
      ],
      "metadata": {
        "colab": {
          "base_uri": "https://localhost:8080/"
        },
        "id": "Ev9fL5JxGxG7",
        "outputId": "4f6d565d-9933-4549-84cb-cd6e19dd3ab6"
      },
      "execution_count": 18,
      "outputs": [
        {
          "output_type": "stream",
          "name": "stdout",
          "text": [
            "0\n",
            "1\n",
            "2\n",
            "3\n",
            "4\n"
          ]
        }
      ]
    },
    {
      "cell_type": "code",
      "source": [
        "for i in range(5):\n",
        "  if i==2:\n",
        "    break\n",
        "  print(i)"
      ],
      "metadata": {
        "colab": {
          "base_uri": "https://localhost:8080/"
        },
        "id": "oITotoOeHFNY",
        "outputId": "fa016352-142a-4124-f580-47ad3a08880f"
      },
      "execution_count": 19,
      "outputs": [
        {
          "output_type": "stream",
          "name": "stdout",
          "text": [
            "0\n",
            "1\n"
          ]
        }
      ]
    },
    {
      "cell_type": "code",
      "source": [
        "def dsd(x):\n",
        "  a=x**2\n",
        "  return a\n",
        "dsd(5)"
      ],
      "metadata": {
        "colab": {
          "base_uri": "https://localhost:8080/"
        },
        "id": "caGoQLVaHM5s",
        "outputId": "f6c49380-2716-43b5-d48e-5225e83fd5d2"
      },
      "execution_count": 20,
      "outputs": [
        {
          "output_type": "execute_result",
          "data": {
            "text/plain": [
              "25"
            ]
          },
          "metadata": {},
          "execution_count": 20
        }
      ]
    },
    {
      "cell_type": "code",
      "source": [],
      "metadata": {
        "id": "6v_A8rb5IXlR"
      },
      "execution_count": null,
      "outputs": []
    }
  ]
}