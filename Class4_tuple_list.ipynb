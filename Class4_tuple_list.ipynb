{
  "nbformat": 4,
  "nbformat_minor": 0,
  "metadata": {
    "colab": {
      "provenance": []
    },
    "kernelspec": {
      "name": "python3",
      "display_name": "Python 3"
    },
    "language_info": {
      "name": "python"
    }
  },
  "cells": [
    {
      "cell_type": "code",
      "execution_count": 23,
      "metadata": {
        "colab": {
          "base_uri": "https://localhost:8080/"
        },
        "id": "M6Uwg2TRhj-4",
        "outputId": "a9a06b1c-4ff9-4595-a9ac-013bc458e2ac"
      },
      "outputs": [
        {
          "output_type": "stream",
          "name": "stdout",
          "text": [
            "[1, 2, 3, [3, 4, 5]]\n",
            "[1, 2, 3, [3, 4, 5]]\n"
          ]
        }
      ],
      "source": [
        "a=[1,2,3]\n",
        "b=[3,4,5]\n",
        "a.append(b)\n",
        "print(a)\n",
        "b=a.copy()\n",
        "print(b)"
      ]
    },
    {
      "cell_type": "code",
      "source": [
        "a=[1,2,3]\n",
        "b=[3,4,5]\n",
        "a.extend(b)\n",
        "print(a)\n",
        "a.pop()\n",
        "print(a)\n",
        "a.remove(1)\n",
        "print(a)\n",
        "del a[2]\n",
        "print(a)\n",
        "a.reverse()\n",
        "print(a)\n",
        "a.sort(reverse=True)\n",
        "print(a)\n",
        "a.sort(reverse=False)\n",
        "print(a)\n"
      ],
      "metadata": {
        "colab": {
          "base_uri": "https://localhost:8080/"
        },
        "id": "N63cnxFY71Ug",
        "outputId": "03bbc73c-6472-429f-8c6c-4a643d22b80d"
      },
      "execution_count": 20,
      "outputs": [
        {
          "output_type": "stream",
          "name": "stdout",
          "text": [
            "[1, 2, 3, 3, 4, 5]\n",
            "[1, 2, 3, 3, 4]\n",
            "[2, 3, 3, 4]\n",
            "[2, 3, 4]\n",
            "[4, 3, 2]\n",
            "[4, 3, 2]\n",
            "[2, 3, 4]\n"
          ]
        }
      ]
    },
    {
      "cell_type": "code",
      "source": [
        "a=[1,'qwerty',4.32,True,(9,3,4,5)]\n",
        "print(a[0:5:2])\n",
        "print(a[-1:-6:-2])"
      ],
      "metadata": {
        "colab": {
          "base_uri": "https://localhost:8080/"
        },
        "id": "0XREzrWb8Pl8",
        "outputId": "cedcdf7d-b338-44ce-e03c-7657ade7f987"
      },
      "execution_count": 33,
      "outputs": [
        {
          "output_type": "stream",
          "name": "stdout",
          "text": [
            "[1, 4.32, (9, 3, 4, 5)]\n",
            "[(9, 3, 4, 5), 4.32, 1]\n"
          ]
        }
      ]
    },
    {
      "cell_type": "code",
      "source": [
        "a=[[[1,2,3],[4,5,6],[7,8,9]]]\n",
        "len(a)\n",
        "print(a)\n",
        "for i in a:\n",
        "  for j in i:\n",
        "    for k in j:\n",
        "      print('i',i)\n",
        "      print('j',j)\n",
        "      print('k',k)"
      ],
      "metadata": {
        "colab": {
          "base_uri": "https://localhost:8080/"
        },
        "id": "GAMTTcEPBW7W",
        "outputId": "cd664e04-bbac-4a46-f42b-dee453a91813"
      },
      "execution_count": 38,
      "outputs": [
        {
          "output_type": "stream",
          "name": "stdout",
          "text": [
            "[[[1, 2, 3], [4, 5, 6], [7, 8, 9]]]\n",
            "i [[1, 2, 3], [4, 5, 6], [7, 8, 9]]\n",
            "j [1, 2, 3]\n",
            "k 1\n",
            "i [[1, 2, 3], [4, 5, 6], [7, 8, 9]]\n",
            "j [1, 2, 3]\n",
            "k 2\n",
            "i [[1, 2, 3], [4, 5, 6], [7, 8, 9]]\n",
            "j [1, 2, 3]\n",
            "k 3\n",
            "i [[1, 2, 3], [4, 5, 6], [7, 8, 9]]\n",
            "j [4, 5, 6]\n",
            "k 4\n",
            "i [[1, 2, 3], [4, 5, 6], [7, 8, 9]]\n",
            "j [4, 5, 6]\n",
            "k 5\n",
            "i [[1, 2, 3], [4, 5, 6], [7, 8, 9]]\n",
            "j [4, 5, 6]\n",
            "k 6\n",
            "i [[1, 2, 3], [4, 5, 6], [7, 8, 9]]\n",
            "j [7, 8, 9]\n",
            "k 7\n",
            "i [[1, 2, 3], [4, 5, 6], [7, 8, 9]]\n",
            "j [7, 8, 9]\n",
            "k 8\n",
            "i [[1, 2, 3], [4, 5, 6], [7, 8, 9]]\n",
            "j [7, 8, 9]\n",
            "k 9\n"
          ]
        }
      ]
    },
    {
      "cell_type": "code",
      "source": [
        "'''BUILT IN FUNCTIONS OF LIST'''\n",
        "a=[1,2,3]\n",
        "b=[4,5,6]\n",
        "a.append(b)\n",
        "print(a)"
      ],
      "metadata": {
        "colab": {
          "base_uri": "https://localhost:8080/"
        },
        "id": "M9vH1-UMH6gH",
        "outputId": "c6acd777-8ce0-49b2-9985-0d2a8e5bdbbe"
      },
      "execution_count": 1,
      "outputs": [
        {
          "output_type": "stream",
          "name": "stdout",
          "text": [
            "[1, 2, 3, [4, 5, 6]]\n"
          ]
        }
      ]
    },
    {
      "cell_type": "code",
      "source": [
        "a=[1,2,3]\n",
        "b=[4,5,6]\n",
        "a.extend(b)\n",
        "print(a)"
      ],
      "metadata": {
        "colab": {
          "base_uri": "https://localhost:8080/"
        },
        "id": "-A0eYQ1JI6p3",
        "outputId": "ad14dad9-077c-4de5-ede7-b8de42631c00"
      },
      "execution_count": 2,
      "outputs": [
        {
          "output_type": "stream",
          "name": "stdout",
          "text": [
            "[1, 2, 3, 4, 5, 6]\n"
          ]
        }
      ]
    },
    {
      "cell_type": "code",
      "source": [
        "a=[1,2,3]\n",
        "b=[4,5,6]\n",
        "a.insert(2,'qwerty')\n",
        "print(a)"
      ],
      "metadata": {
        "colab": {
          "base_uri": "https://localhost:8080/"
        },
        "id": "WX7dNRnmI-vv",
        "outputId": "8d366717-a45d-4c64-a82b-bef7b722b2f0"
      },
      "execution_count": 3,
      "outputs": [
        {
          "output_type": "stream",
          "name": "stdout",
          "text": [
            "[1, 2, 'qwerty', 3]\n"
          ]
        }
      ]
    },
    {
      "cell_type": "code",
      "source": [
        "a=[1,2,3]\n",
        "b=[4,5,6]\n",
        "a.remove(3)\n",
        "print(a)"
      ],
      "metadata": {
        "colab": {
          "base_uri": "https://localhost:8080/"
        },
        "id": "tRN_WadRJGvl",
        "outputId": "dab221da-ac8d-4b3c-cea3-658b3585362c"
      },
      "execution_count": 6,
      "outputs": [
        {
          "output_type": "stream",
          "name": "stdout",
          "text": [
            "[1, 2]\n"
          ]
        }
      ]
    },
    {
      "cell_type": "code",
      "source": [
        "a=[1,2,3]\n",
        "b=[4,5,6]\n",
        "a.pop(2)\n",
        "print(a)"
      ],
      "metadata": {
        "colab": {
          "base_uri": "https://localhost:8080/"
        },
        "id": "MnLr503hJKxl",
        "outputId": "420c8a71-764d-4ae2-f723-6bb7fca42761"
      },
      "execution_count": 7,
      "outputs": [
        {
          "output_type": "stream",
          "name": "stdout",
          "text": [
            "[1, 2]\n"
          ]
        }
      ]
    },
    {
      "cell_type": "code",
      "source": [
        "a=[1,2,3]\n",
        "b=[4,5,6]\n",
        "del a[1]\n",
        "print(a)"
      ],
      "metadata": {
        "colab": {
          "base_uri": "https://localhost:8080/"
        },
        "id": "hdnXy_mBJVeN",
        "outputId": "d635e2b2-d4c4-4c24-abd9-f320e03ad524"
      },
      "execution_count": 8,
      "outputs": [
        {
          "output_type": "stream",
          "name": "stdout",
          "text": [
            "[1, 3]\n"
          ]
        }
      ]
    },
    {
      "cell_type": "code",
      "source": [
        "a=[1,2,3]\n",
        "b=[4,5,6]\n",
        "c=4 in b\n",
        "print(c)"
      ],
      "metadata": {
        "colab": {
          "base_uri": "https://localhost:8080/"
        },
        "id": "NRM86Vx_JYyz",
        "outputId": "e6b8317b-ce8b-4f92-bff9-e4d0e4976337"
      },
      "execution_count": 11,
      "outputs": [
        {
          "output_type": "stream",
          "name": "stdout",
          "text": [
            "True\n"
          ]
        }
      ]
    },
    {
      "cell_type": "code",
      "source": [
        "a=[1,2,3]\n",
        "b=[4,5,6]\n",
        "print(len(a))"
      ],
      "metadata": {
        "colab": {
          "base_uri": "https://localhost:8080/"
        },
        "id": "6fSqwsWhJctn",
        "outputId": "54309fc4-e05c-40e1-8d08-bb0b74530ee0"
      },
      "execution_count": 12,
      "outputs": [
        {
          "output_type": "stream",
          "name": "stdout",
          "text": [
            "3\n"
          ]
        }
      ]
    },
    {
      "cell_type": "code",
      "source": [
        "a=[1,2,3]\n",
        "b=[4,5,6]\n",
        "a.reverse()\n",
        "print(a)"
      ],
      "metadata": {
        "colab": {
          "base_uri": "https://localhost:8080/"
        },
        "id": "kyFSDqimJqrh",
        "outputId": "cba46f79-de5f-4087-d66a-90b15f54863a"
      },
      "execution_count": 14,
      "outputs": [
        {
          "output_type": "stream",
          "name": "stdout",
          "text": [
            "[3, 2, 1]\n"
          ]
        }
      ]
    },
    {
      "cell_type": "code",
      "source": [
        "a=[1,2,3]\n",
        "b=[4,5,6]\n",
        "a.sort(reverse=True)\n",
        "print(a)\n",
        "a.sort(reverse=False)\n",
        "print(a)"
      ],
      "metadata": {
        "colab": {
          "base_uri": "https://localhost:8080/"
        },
        "id": "ul9G9YEyJuWg",
        "outputId": "7fd7692b-983b-4b7d-da6a-0aa419d0c6ec"
      },
      "execution_count": 18,
      "outputs": [
        {
          "output_type": "stream",
          "name": "stdout",
          "text": [
            "[3, 2, 1]\n",
            "[1, 2, 3]\n"
          ]
        }
      ]
    },
    {
      "cell_type": "code",
      "source": [
        "a=[1,2,3]\n",
        "b=[4,5,6]\n",
        "print(b.count(4))"
      ],
      "metadata": {
        "colab": {
          "base_uri": "https://localhost:8080/"
        },
        "id": "ksLcQuJoJ3-d",
        "outputId": "e03b7705-2ae0-4370-b6a3-2e3d378e28ce"
      },
      "execution_count": 21,
      "outputs": [
        {
          "output_type": "stream",
          "name": "stdout",
          "text": [
            "1\n"
          ]
        }
      ]
    },
    {
      "cell_type": "code",
      "source": [
        "a=[1,2,3]\n",
        "b=[4,5,6]\n",
        "b=a.copy()\n",
        "print(b)"
      ],
      "metadata": {
        "colab": {
          "base_uri": "https://localhost:8080/"
        },
        "id": "6z47AsbiKGLr",
        "outputId": "6ce480ba-919b-4a83-d409-55fe78668d94"
      },
      "execution_count": 24,
      "outputs": [
        {
          "output_type": "stream",
          "name": "stdout",
          "text": [
            "[1, 2, 3]\n"
          ]
        }
      ]
    },
    {
      "cell_type": "code",
      "source": [
        "'''CRUD RULE'''\n",
        "a=[]\n",
        "b=[1,2,3,4]\n",
        "a.extend(b)\n",
        "a.insert(2,5)\n",
        "a.pop(3)\n",
        "a.remove(1)\n",
        "print(a)"
      ],
      "metadata": {
        "colab": {
          "base_uri": "https://localhost:8080/"
        },
        "id": "NLE2ESHjKO21",
        "outputId": "6776bdec-b337-40c5-ef9f-b73b29b39240"
      },
      "execution_count": 25,
      "outputs": [
        {
          "output_type": "stream",
          "name": "stdout",
          "text": [
            "[2, 5, 4]\n"
          ]
        }
      ]
    },
    {
      "cell_type": "code",
      "source": [
        "a=[1,2,3,4,5,6,7,8,9,0]\n",
        "b=a[2:9:2]\n",
        "print(b)\n",
        "c=a[-1:-8:-1]\n",
        "print(c)"
      ],
      "metadata": {
        "colab": {
          "base_uri": "https://localhost:8080/"
        },
        "id": "gzUmTbRaK7ie",
        "outputId": "41da34a4-7f42-4ddc-da8f-9a12a8751028"
      },
      "execution_count": 33,
      "outputs": [
        {
          "output_type": "stream",
          "name": "stdout",
          "text": [
            "[3, 5, 7, 9]\n",
            "[0, 9, 8, 7, 6, 5, 4]\n"
          ]
        }
      ]
    },
    {
      "cell_type": "code",
      "source": [
        "a=[[1,2,3],[4,5,6],[7,8,9]]\n",
        "a[1][1]"
      ],
      "metadata": {
        "colab": {
          "base_uri": "https://localhost:8080/"
        },
        "id": "I3cAm7arLGt3",
        "outputId": "d153ee93-17ee-4b03-d3bd-70c4bd680a41"
      },
      "execution_count": 41,
      "outputs": [
        {
          "output_type": "execute_result",
          "data": {
            "text/plain": [
              "5"
            ]
          },
          "metadata": {},
          "execution_count": 41
        }
      ]
    },
    {
      "cell_type": "code",
      "source": [
        "'''LIST COMPREHENSION'''\n",
        "a=[1,2,3,4,5]\n",
        "b=[a**2 if a%2==0 else a**3 for a in range(5)]\n",
        "print(b)"
      ],
      "metadata": {
        "colab": {
          "base_uri": "https://localhost:8080/"
        },
        "id": "xz6yn_hbLxIV",
        "outputId": "37e2ee99-de26-4bfd-86dc-d19e2cf572ff"
      },
      "execution_count": 50,
      "outputs": [
        {
          "output_type": "stream",
          "name": "stdout",
          "text": [
            "[0, 1, 4, 27, 16]\n"
          ]
        }
      ]
    },
    {
      "cell_type": "code",
      "source": [
        "'''TUPLES'''\n",
        "a=1,2,3\n",
        "x,y,z=a\n",
        "print(x)\n",
        "print(y)\n",
        "print(z)"
      ],
      "metadata": {
        "colab": {
          "base_uri": "https://localhost:8080/"
        },
        "id": "smvpOf1CMtjP",
        "outputId": "b3593ee6-a5f8-4f88-af2d-6e8a7ae6b193"
      },
      "execution_count": 51,
      "outputs": [
        {
          "output_type": "stream",
          "name": "stdout",
          "text": [
            "1\n",
            "2\n",
            "3\n"
          ]
        }
      ]
    },
    {
      "cell_type": "code",
      "source": [
        "a=(1,2,3)\n",
        "b=(4,5,6)\n",
        "c=a+b\n",
        "print(c)"
      ],
      "metadata": {
        "colab": {
          "base_uri": "https://localhost:8080/"
        },
        "id": "Z_KIFnJwNYNQ",
        "outputId": "7704ccc2-ef59-42c5-beed-aebf1677704f"
      },
      "execution_count": 55,
      "outputs": [
        {
          "output_type": "stream",
          "name": "stdout",
          "text": [
            "(1, 2, 3, 4, 5, 6)\n"
          ]
        }
      ]
    },
    {
      "cell_type": "code",
      "source": [
        "a=(1,2,3)\n",
        "b=(4,5,6)\n",
        "c=a*2\n",
        "print(c)"
      ],
      "metadata": {
        "colab": {
          "base_uri": "https://localhost:8080/"
        },
        "id": "CtptIr34NmaU",
        "outputId": "cb9258b2-aab3-42c9-87ab-432cd8ec9104"
      },
      "execution_count": 56,
      "outputs": [
        {
          "output_type": "stream",
          "name": "stdout",
          "text": [
            "(1, 2, 3, 1, 2, 3)\n"
          ]
        }
      ]
    },
    {
      "cell_type": "code",
      "source": [
        "a=(1,2,3)\n",
        "b=(4,5,6)\n",
        "c=a+b\n",
        "print(len(c))"
      ],
      "metadata": {
        "colab": {
          "base_uri": "https://localhost:8080/"
        },
        "id": "fqZWRKwBN2r_",
        "outputId": "0d8b6a3e-baec-4c6d-f9c3-a11124e37bc6"
      },
      "execution_count": 57,
      "outputs": [
        {
          "output_type": "stream",
          "name": "stdout",
          "text": [
            "6\n"
          ]
        }
      ]
    },
    {
      "cell_type": "code",
      "source": [
        "a=(1,2,3)\n",
        "b=(4,5,6)\n",
        "c=a+b\n",
        "print(4 in c)"
      ],
      "metadata": {
        "colab": {
          "base_uri": "https://localhost:8080/"
        },
        "id": "jZ2p46CjN9Nh",
        "outputId": "a960b912-39b4-4d31-c3d5-84f4499a29a8"
      },
      "execution_count": 58,
      "outputs": [
        {
          "output_type": "stream",
          "name": "stdout",
          "text": [
            "True\n"
          ]
        }
      ]
    },
    {
      "cell_type": "code",
      "source": [
        "#HOMEWORK LIST MANIPULATION:\n",
        "#QUESTION1:\n",
        "student_name=['vineet','divakar','meena']\n",
        "student_marks=[85,68,94]\n",
        "print('Average Marks of class=',sum(student_marks)/len(student_marks))\n",
        "c=student_name.sort()\n",
        "print(student_name)\n",
        "for i in student_marks:\n",
        "  if i>90:\n",
        "    print(\"Highest Marks\")\n",
        "  elif i>80:\n",
        "    print(\"This Student has passed the threshold=\",student_name[student_marks.index(i)])\n",
        "  else:\n",
        "    print(\"Not the highest marks\")\n",
        ""
      ],
      "metadata": {
        "colab": {
          "base_uri": "https://localhost:8080/"
        },
        "id": "K90IN-PUOAhR",
        "outputId": "81aed324-7921-4d70-a702-49ba62a77c1b"
      },
      "execution_count": 66,
      "outputs": [
        {
          "output_type": "stream",
          "name": "stdout",
          "text": [
            "Average Marks of class= 82.33333333333333\n",
            "['divakar', 'meena', 'vineet']\n",
            "This Student has passed the threshold= divakar\n",
            "Not the highest marks\n",
            "Highest Marks\n"
          ]
        }
      ]
    },
    {
      "cell_type": "code",
      "source": [
        "#Question2:\n",
        "a=[1,2,3,4,5,6,7,8,9,10]\n",
        "b=[a**2 for a in a]\n",
        "print(b)\n",
        "c=[a**3 for a in a]\n",
        "print(c)"
      ],
      "metadata": {
        "colab": {
          "base_uri": "https://localhost:8080/"
        },
        "id": "fVm884ToPYeg",
        "outputId": "694ecc58-fe10-4535-e2df-43dbf88a7823"
      },
      "execution_count": 69,
      "outputs": [
        {
          "output_type": "stream",
          "name": "stdout",
          "text": [
            "[1, 4, 9, 16, 25, 36, 49, 64, 81, 100]\n",
            "[1, 8, 27, 64, 125, 216, 343, 512, 729, 1000]\n"
          ]
        }
      ]
    },
    {
      "cell_type": "code",
      "source": [
        "#Question3:\n",
        "a=[1,2,3,4,5,6,7,8,9,10]\n",
        "b=[print('positive number') if x>0 else print('no is zero') if x==0 else print('Negative number') for x in a]\n",
        "# print(b)"
      ],
      "metadata": {
        "colab": {
          "base_uri": "https://localhost:8080/"
        },
        "id": "sXaz3sd4RaVT",
        "outputId": "135e8f8a-11bc-4d41-ea0b-29ced998b5fb"
      },
      "execution_count": 72,
      "outputs": [
        {
          "output_type": "stream",
          "name": "stdout",
          "text": [
            "positive number\n",
            "positive number\n",
            "positive number\n",
            "positive number\n",
            "positive number\n",
            "positive number\n",
            "positive number\n",
            "positive number\n",
            "positive number\n",
            "positive number\n"
          ]
        }
      ]
    },
    {
      "cell_type": "code",
      "source": [
        "#Question4:\n",
        "students = []\n",
        "while True:\n",
        "    student_name = input('Enter Student Name: ')\n",
        "    students.append(student_name)\n",
        "    more_students = input('Do you want to add more students? [Y/N]: ')\n",
        "    if more_students.upper() != 'Y':\n",
        "        break\n",
        "students.sort()\n",
        "print(students)\n"
      ],
      "metadata": {
        "colab": {
          "base_uri": "https://localhost:8080/"
        },
        "id": "MEwGiY-OSgzg",
        "outputId": "a9b71c42-e8f1-4ed8-c3e7-d1a421181467"
      },
      "execution_count": 78,
      "outputs": [
        {
          "output_type": "stream",
          "name": "stdout",
          "text": [
            "Enter Student Name: nik\n",
            "Do you want to add more students? [Y/N]: y\n",
            "Enter Student Name: yat\n",
            "Do you want to add more students? [Y/N]: y\n",
            "Enter Student Name: ish\n",
            "Do you want to add more students? [Y/N]: n\n",
            "['ish', 'nik', 'yat']\n"
          ]
        }
      ]
    },
    {
      "cell_type": "code",
      "source": [
        "'''HOMEWORK-TUPLE MANIPULATION'''\n",
        "#Questions1:\n",
        "\n",
        "a=str(input('Enter Name of student'))\n",
        "b=str(input('Enter Marks of student'))\n",
        "course_name=str(input('Enter Course Name'))\n",
        "c=tuple([a,b,course_name])\n",
        "print(c)"
      ],
      "metadata": {
        "colab": {
          "base_uri": "https://localhost:8080/"
        },
        "id": "zLA-ji5aUAIy",
        "outputId": "241a6087-0ec1-4dac-c807-63fb29416b3a"
      },
      "execution_count": 81,
      "outputs": [
        {
          "output_type": "stream",
          "name": "stdout",
          "text": [
            "Enter Name of studentnik\n",
            "Enter Marks of student43\n",
            "Enter Course Namegg\n",
            "('nik', '43', 'gg')\n"
          ]
        }
      ]
    },
    {
      "cell_type": "code",
      "source": [
        "#Question2:\n",
        "student_name=('nik','dev','saroson')\n",
        "student_age = (23, 22, 21)\n",
        "student_grades = ('A', 'B', 'F')\n",
        "student_name_list = list(student_name)\n",
        "\n",
        "# Check if the string '4' is in the student name, not the integer 4\n",
        "C = [print('Age is',student_age[i]) if student_age[i]>=22 else len(student_name) for i in range(len(student_name_list))]\n",
        "# print(C)"
      ],
      "metadata": {
        "colab": {
          "base_uri": "https://localhost:8080/"
        },
        "id": "bLDHADX9WemA",
        "outputId": "84cfe13d-b26f-490a-cec4-14fcf75f98c2"
      },
      "execution_count": 94,
      "outputs": [
        {
          "output_type": "stream",
          "name": "stdout",
          "text": [
            "Age is 23\n",
            "Age is 22\n"
          ]
        }
      ]
    },
    {
      "cell_type": "code",
      "source": [
        "#Question3:\n",
        "a=(('nik',10,200),('bhumi',20,300),('dev',30,400))\n",
        "x, y, z = a\n",
        "print('Total salary of nik',x[2])\n",
        "print('Total salary of bhumi',y[2])\n",
        "print('Total salary of dev',z[2])\n",
        "ss=[x[2],y[2],z[2]]\n",
        "s=sum(ss)//len(ss)\n",
        "print('Average Salary',s)\n",
        "print('Highest Salary',max(ss))\n",
        "for i,j,k in a:\n",
        "  # Compare the salaries (third element of each tuple)\n",
        "  if j < k:\n",
        "    print('highest salary for',i,'is',k) # k already represents the salary\n"
      ],
      "metadata": {
        "colab": {
          "base_uri": "https://localhost:8080/"
        },
        "id": "-MBOTUNnX-QJ",
        "outputId": "f4efbbbd-2bb7-493a-840e-3101808d3196"
      },
      "execution_count": 115,
      "outputs": [
        {
          "output_type": "stream",
          "name": "stdout",
          "text": [
            "Total salary of nik 200\n",
            "Total salary of bhumi 300\n",
            "Total salary of dev 400\n",
            "Average Salary 300\n",
            "Highest Salary 400\n",
            "highest salary for nik is 200\n",
            "highest salary for bhumi is 300\n",
            "highest salary for dev is 400\n"
          ]
        }
      ]
    },
    {
      "cell_type": "code",
      "source": [
        "#Question4:\n"
      ],
      "metadata": {
        "id": "Z6LnHBTFcdwM"
      },
      "execution_count": null,
      "outputs": []
    }
  ]
}